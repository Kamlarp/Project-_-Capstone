{
 "cells": [
  {
   "cell_type": "markdown",
   "metadata": {},
   "source": [
    "# **----- Import Libraries -----**"
   ]
  },
  {
   "cell_type": "code",
   "execution_count": 37,
   "metadata": {},
   "outputs": [],
   "source": [
    "import pandas as pd\n",
    "\n",
    "# import libraries for saving the model, vectorizer, scaler\n",
    "import pickle, json\n",
    "\n",
    "# import libraries for data visualization\n",
    "import matplotlib.pyplot as plt\n",
    "import seaborn as sns\n",
    "\n",
    "# import train test split\n",
    "from sklearn.model_selection import train_test_split\n",
    "\n",
    "# import the vectorizers, scaler, smote\n",
    "from sklearn.feature_extraction.text import TfidfVectorizer\n",
    "from sklearn.preprocessing import StandardScaler\n",
    "from imblearn.over_sampling import SMOTE\n",
    "\n",
    "# import the model including logistic regression, decision tree, bagged decision tree, random forest, ada boost, gradient boost, xgboost, svm \n",
    "from sklearn.linear_model import LogisticRegression\n",
    "from sklearn.tree import DecisionTreeClassifier\n",
    "\n",
    "# import the metrics including accuracy score, precision score, recall score, f1 score, roc auc score, confusion matrix as well as classification report, roc curve\n",
    "from sklearn.metrics import accuracy_score, precision_score, recall_score, f1_score, roc_auc_score, confusion_matrix, classification_report, roc_curve\n",
    "\n",
    "# confusion matrix\n",
    "from sklearn.metrics import confusion_matrix\n",
    "\n"
   ]
  },
  {
   "cell_type": "markdown",
   "metadata": {},
   "source": [
    "# **----- Import Data -----**"
   ]
  },
  {
   "cell_type": "code",
   "execution_count": 38,
   "metadata": {},
   "outputs": [],
   "source": [
    "#import the file \"df_pantip_posts_suicide_labeled_processed.csv\" from output folder\n",
    "df_pantip_posts_suicide_labeled_processed = pd.read_csv('../output - final/df_pantip_posts_suicide_labeled_processed.csv')"
   ]
  },
  {
   "cell_type": "markdown",
   "metadata": {},
   "source": [
    "# **----- Define X,y and Do Train-test Split -----**"
   ]
  },
  {
   "cell_type": "code",
   "execution_count": 39,
   "metadata": {},
   "outputs": [
    {
     "name": "stdout",
     "output_type": "stream",
     "text": [
      "(23834, 21)\n",
      "Index(['Unnamed: 0', 'index', 'title', 'url', 'label', 'tags', 'text',\n",
      "       'profile', 'time', 'sub_label', 'all_text', 'tokenized_text',\n",
      "       'day_week', 'day_month', 'month_year', 'year', 'time_day', 'title_len',\n",
      "       'text_len', 'title_emoji', 'text_emoji'],\n",
      "      dtype='object')\n",
      "label\n",
      "0    22573\n",
      "1     1261\n",
      "Name: count, dtype: int64\n",
      "sub_label\n",
      "0     22573\n",
      "11      779\n",
      "12      482\n",
      "Name: count, dtype: int64\n"
     ]
    }
   ],
   "source": [
    "# check column and data type of the dataframe df_pantip_posts_suicide_labeled_processed\n",
    "print(df_pantip_posts_suicide_labeled_processed.shape)\n",
    "print(df_pantip_posts_suicide_labeled_processed.columns)\n",
    "print(df_pantip_posts_suicide_labeled_processed['label'].value_counts())\n",
    "print(df_pantip_posts_suicide_labeled_processed['sub_label'].value_counts())\n",
    "\n"
   ]
  },
  {
   "cell_type": "code",
   "execution_count": 40,
   "metadata": {},
   "outputs": [
    {
     "data": {
      "text/plain": [
       "Unnamed: 0        0\n",
       "index             0\n",
       "title             0\n",
       "url               0\n",
       "label             0\n",
       "tags              0\n",
       "text              0\n",
       "profile           0\n",
       "time              0\n",
       "sub_label         0\n",
       "all_text          0\n",
       "tokenized_text    0\n",
       "day_week          0\n",
       "day_month         0\n",
       "month_year        0\n",
       "year              0\n",
       "time_day          0\n",
       "title_len         0\n",
       "text_len          0\n",
       "title_emoji       0\n",
       "text_emoji        0\n",
       "dtype: int64"
      ]
     },
     "execution_count": 40,
     "metadata": {},
     "output_type": "execute_result"
    }
   ],
   "source": [
    "# check NaN\n",
    "df_pantip_posts_suicide_labeled_processed.isnull().sum()"
   ]
  },
  {
   "cell_type": "code",
   "execution_count": 41,
   "metadata": {},
   "outputs": [
    {
     "name": "stdout",
     "output_type": "stream",
     "text": [
      "Index(['tokenized_text', 'day_week', 'day_month', 'month_year', 'year',\n",
      "       'time_day', 'text_len', 'text_emoji'],\n",
      "      dtype='object')\n"
     ]
    }
   ],
   "source": [
    "# define X including time category feature, text numeric feature, text category features, tags, and tokenized text, and define y which is column 'label\n",
    "# also drop the columns that are not available in youtube data later to make model for generalizable across platform\n",
    "y = df_pantip_posts_suicide_labeled_processed['label']\n",
    "X = df_pantip_posts_suicide_labeled_processed.drop(columns=['Unnamed: 0', 'title_len', 'title_emoji', 'tags', 'index', 'title', 'url', 'label', 'text','all_text',\n",
    "       'profile', 'time', 'sub_label'])\n",
    "print(X.columns)"
   ]
  },
  {
   "cell_type": "code",
   "execution_count": 42,
   "metadata": {},
   "outputs": [],
   "source": [
    "# train test split\n",
    "X_train, X_test, y_train, y_test = train_test_split(X,y, test_size = 0.2, random_state = 42, stratify=y)"
   ]
  },
  {
   "cell_type": "markdown",
   "metadata": {},
   "source": [
    "# **----- Feature Engineering -----**"
   ]
  },
  {
   "cell_type": "code",
   "execution_count": 43,
   "metadata": {},
   "outputs": [
    {
     "name": "stdout",
     "output_type": "stream",
     "text": [
      "Index(['day_week_Monday', 'day_week_Saturday', 'day_week_Sunday',\n",
      "       'day_week_Thursday', 'day_week_Tuesday', 'day_week_Wednesday',\n",
      "       'day_month_2', 'day_month_3', 'day_month_4', 'day_month_5',\n",
      "       'day_month_6', 'day_month_7', 'day_month_8', 'day_month_9',\n",
      "       'day_month_10', 'day_month_11', 'day_month_12', 'day_month_13',\n",
      "       'day_month_14', 'day_month_15', 'day_month_16', 'day_month_17',\n",
      "       'day_month_18', 'day_month_19', 'day_month_20', 'day_month_21',\n",
      "       'day_month_22', 'day_month_23', 'day_month_24', 'day_month_25',\n",
      "       'day_month_26', 'day_month_27', 'day_month_28', 'day_month_29',\n",
      "       'day_month_30', 'day_month_31', 'month_year_August',\n",
      "       'month_year_December', 'month_year_February', 'month_year_January',\n",
      "       'month_year_July', 'month_year_June', 'month_year_March',\n",
      "       'month_year_May', 'month_year_November', 'month_year_October',\n",
      "       'month_year_September', 'year_2017', 'year_2018', 'year_2019',\n",
      "       'year_2020', 'year_2021', 'year_2022', 'year_2023', 'time_day_12-15',\n",
      "       'time_day_15-18', 'time_day_18-21', 'time_day_21-24', 'time_day_3-6',\n",
      "       'time_day_6-9', 'time_day_9-12', 'text_emoji_1'],\n",
      "      dtype='object')\n",
      "<class 'pandas.core.frame.DataFrame'>\n",
      "(19067, 62)\n"
     ]
    }
   ],
   "source": [
    "#Step 1: One-Hot Encoding for Categorical Data\n",
    "\n",
    "cols = ['day_week', 'day_month', 'month_year', 'year', 'time_day', 'text_emoji']\n",
    "X_train_categorical = pd.get_dummies(X_train[cols], columns=cols, drop_first=True, dtype=int)\n",
    "X_test_categorical = pd.get_dummies(X_test[cols], columns=cols, drop_first=True, dtype=int)\n",
    "\n",
    "print(X_train_categorical.columns)\n",
    "print(type(X_train_categorical))\n",
    "print(X_train_categorical.shape)"
   ]
  },
  {
   "cell_type": "code",
   "execution_count": 44,
   "metadata": {},
   "outputs": [
    {
     "name": "stdout",
     "output_type": "stream",
     "text": [
      "<class 'scipy.sparse._csr.csr_matrix'>\n",
      "(19067, 17505)\n",
      "<class 'scipy.sparse._csr.csr_matrix'>\n",
      "(4767, 17505)\n"
     ]
    }
   ],
   "source": [
    "#Step 2: Vectorization of 'tokenized_text'\n",
    "\n",
    "vectorizer = TfidfVectorizer()\n",
    "X_train_text = vectorizer.fit_transform(X_train['tokenized_text'])\n",
    "X_test_text = vectorizer.transform(X_test['tokenized_text'])\n",
    "\n",
    "print(type(X_train_text))\n",
    "print(X_train_text.shape)\n",
    "\n",
    "print(type(X_test_text))\n",
    "print(X_test_text.shape)"
   ]
  },
  {
   "cell_type": "code",
   "execution_count": 45,
   "metadata": {},
   "outputs": [
    {
     "name": "stdout",
     "output_type": "stream",
     "text": [
      "<class 'numpy.ndarray'>\n"
     ]
    },
    {
     "data": {
      "text/plain": [
       "(19067, 1)"
      ]
     },
     "execution_count": 45,
     "metadata": {},
     "output_type": "execute_result"
    }
   ],
   "source": [
    "# Step 3: Scaling of Numerical Data\n",
    "\n",
    "scaler = StandardScaler()\n",
    "X_train_numerical = scaler.fit_transform(X_train[['text_len']])\n",
    "X_test_numerical = scaler.transform(X_test[['text_len']])\n",
    "\n",
    "print(type(X_train_numerical))\n",
    "X_train_numerical.shape"
   ]
  },
  {
   "cell_type": "code",
   "execution_count": 46,
   "metadata": {},
   "outputs": [
    {
     "name": "stdout",
     "output_type": "stream",
     "text": [
      "(19067, 17568)\n"
     ]
    }
   ],
   "source": [
    "# Step 4: Concatenate All Features for Training Data\n",
    "\n",
    "X_train_all = pd.concat([\n",
    "    pd.DataFrame(X_train_numerical, columns=['text_len'], index=X_train.index),\n",
    "    pd.DataFrame(X_train_text.todense(), columns=vectorizer.get_feature_names_out(), index=X_train.index),\n",
    "    X_train_categorical\n",
    "], axis=1)\n",
    "\n",
    "print(X_train_all.shape)\n"
   ]
  },
  {
   "cell_type": "code",
   "execution_count": 47,
   "metadata": {},
   "outputs": [
    {
     "name": "stdout",
     "output_type": "stream",
     "text": [
      "(4767, 17568)\n"
     ]
    }
   ],
   "source": [
    "# Step 4: Concatenate All Features for Test Data\n",
    "X_test_all = pd.concat([\n",
    "    pd.DataFrame(X_test_numerical, columns=['text_len'], index=X_test.index),\n",
    "    pd.DataFrame(X_test_text.todense(), columns=vectorizer.get_feature_names_out(), index=X_test.index),\n",
    "    X_test_categorical\n",
    "], axis=1)\n",
    "\n",
    "print(X_test_all.shape)"
   ]
  },
  {
   "cell_type": "code",
   "execution_count": 48,
   "metadata": {},
   "outputs": [
    {
     "name": "stdout",
     "output_type": "stream",
     "text": [
      "(36116, 17568)\n"
     ]
    }
   ],
   "source": [
    "# Step 5: smote X_train and y_train\n",
    "sm = SMOTE(random_state=42)\n",
    "X_train_sm, y_train_sm = sm.fit_resample(X_train_all, y_train)\n",
    "\n",
    "print(X_train_sm.shape)\n"
   ]
  },
  {
   "cell_type": "code",
   "execution_count": 49,
   "metadata": {},
   "outputs": [
    {
     "name": "stdout",
     "output_type": "stream",
     "text": [
      "(36116, 17568)\n",
      "(4767, 17568)\n"
     ]
    }
   ],
   "source": [
    "# Step 6: Checking and Renaming Duplicate Features\n",
    "\n",
    "# Function to rename duplicate columns by adding a suffix\n",
    "def rename_duplicates(df):\n",
    "    cols = pd.Series(df.columns)\n",
    "    for dup in cols[cols.duplicated()].unique():\n",
    "        cols[cols[cols == dup].index.values.tolist()] = [dup + '_' + str(i) if i != 0 else dup for i in range(sum(cols == dup))]\n",
    "    df.columns = cols\n",
    "    return df\n",
    "\n",
    "# Apply it to your training data\n",
    "rename_duplicates(X_train_sm)\n",
    "\n",
    "# If you're transforming your test data similarly, apply it there too\n",
    "rename_duplicates(X_test_all)\n",
    "\n",
    "# check the shape of X_train_sm and X_test_all\n",
    "print(X_train_sm.shape)\n",
    "print(X_test_all.shape)"
   ]
  },
  {
   "cell_type": "code",
   "execution_count": 50,
   "metadata": {},
   "outputs": [
    {
     "data": {
      "text/plain": [
       "0"
      ]
     },
     "execution_count": 50,
     "metadata": {},
     "output_type": "execute_result"
    }
   ],
   "source": [
    "X_train_sm.columns.isna().sum()"
   ]
  },
  {
   "cell_type": "code",
   "execution_count": 51,
   "metadata": {},
   "outputs": [],
   "source": [
    "# Save X_train_sm column to the list of X_train_sm columns so we can use this list to match with X_sm of youtube data and use the same model to predict\n",
    "X_train_sm_columns = X_train_sm.columns.tolist()\n",
    "\n",
    "with open('../model/X_train_sm_label_columns.json', 'w') as f:\n",
    "    json.dump(X_train_sm_columns, f)"
   ]
  },
  {
   "cell_type": "markdown",
   "metadata": {},
   "source": [
    "# **----- Do the  modeling & evaluating -----**"
   ]
  },
  {
   "cell_type": "markdown",
   "metadata": {},
   "source": [
    "## Logistic Regression Modeling & Coefficient Analysis"
   ]
  },
  {
   "cell_type": "code",
   "execution_count": 52,
   "metadata": {},
   "outputs": [
    {
     "name": "stderr",
     "output_type": "stream",
     "text": [
      "c:\\Users\\HP\\anaconda3\\Lib\\site-packages\\sklearn\\linear_model\\_logistic.py:460: ConvergenceWarning: lbfgs failed to converge (status=1):\n",
      "STOP: TOTAL NO. of ITERATIONS REACHED LIMIT.\n",
      "\n",
      "Increase the number of iterations (max_iter) or scale the data as shown in:\n",
      "    https://scikit-learn.org/stable/modules/preprocessing.html\n",
      "Please also refer to the documentation for alternative solver options:\n",
      "    https://scikit-learn.org/stable/modules/linear_model.html#logistic-regression\n",
      "  n_iter_i = _check_optimize_result(\n"
     ]
    }
   ],
   "source": [
    "#Run Logistic Regression Model to test compute time\n",
    "lr = LogisticRegression(random_state=42, class_weight={0:1, 1:10})\n",
    "lr.fit(X_train_sm, y_train_sm)\n",
    "y_pred_lr = lr.predict(X_test_all)\n",
    "y_pred_lr_proba = lr.predict_proba(X_test_all)[:,1]\n"
   ]
  },
  {
   "cell_type": "code",
   "execution_count": 55,
   "metadata": {},
   "outputs": [],
   "source": [
    "# Set threshold for Logistic Regression\n",
    "\n",
    "def get_pred_by_proba(proba, threshold=0.5):\n",
    "    return [1 if p >= threshold else 0 for p in proba]\n",
    "\n",
    "\n",
    "y_pred_lr = get_pred_by_proba(y_pred_lr_proba, threshold=0.1)"
   ]
  },
  {
   "cell_type": "code",
   "execution_count": 56,
   "metadata": {},
   "outputs": [
    {
     "name": "stdout",
     "output_type": "stream",
     "text": [
      "Logistic Regression\n",
      "Accuracy score:  0.6920495070274806\n",
      "Precision score:  0.13636363636363635\n",
      "Recall score:  0.9047619047619048\n",
      "F1 score:  0.237006237006237\n",
      "ROC AUC score:  0.792469545957918\n",
      "Confusion Matrix: \n",
      " [[3071 1444]\n",
      " [  24  228]]\n",
      "Classification Report: \n",
      "               precision    recall  f1-score   support\n",
      "\n",
      "           0       0.99      0.68      0.81      4515\n",
      "           1       0.14      0.90      0.24       252\n",
      "\n",
      "    accuracy                           0.69      4767\n",
      "   macro avg       0.56      0.79      0.52      4767\n",
      "weighted avg       0.95      0.69      0.78      4767\n",
      "\n"
     ]
    }
   ],
   "source": [
    "#evaluate the model both test and train model comparison for Logistic Regression\n",
    "print('Logistic Regression')\n",
    "print('Accuracy score: ', accuracy_score(y_test, y_pred_lr))\n",
    "print('Precision score: ', precision_score(y_test, y_pred_lr))\n",
    "print('Recall score: ', recall_score(y_test, y_pred_lr))\n",
    "print('F1 score: ', f1_score(y_test, y_pred_lr))\n",
    "print('ROC AUC score: ', roc_auc_score(y_test, y_pred_lr))\n",
    "print('Confusion Matrix: \\n', confusion_matrix(y_test, y_pred_lr))\n",
    "print('Classification Report: \\n', classification_report(y_test, y_pred_lr))\n"
   ]
  },
  {
   "cell_type": "code",
   "execution_count": 57,
   "metadata": {},
   "outputs": [],
   "source": [
    "# save classification report to csv file\n",
    "report = classification_report(y_test, y_pred_lr, output_dict=True)\n",
    "df = pd.DataFrame(report).transpose()\n",
    "df.to_csv('../result/pantip_model_simplifeid_label_lr_classification_report.csv', index=False)\n"
   ]
  },
  {
   "cell_type": "code",
   "execution_count": 58,
   "metadata": {},
   "outputs": [],
   "source": [
    "# save model to pickle file\n",
    "pickle.dump(lr, open('../model/pantip_post_model_train_simplified_label_lr.pkl', 'wb'))\n",
    "\n",
    "# save vectorizer to pickle file\n",
    "pickle.dump(vectorizer, open('../model/pantip_post_model_train_simplified_label_vectorizer.pkl', 'wb'))\n",
    "\n",
    "# save scaler to pickle file\n",
    "pickle.dump(scaler, open('../model/pantip_post_model_train_simplified_label_scaler.pkl', 'wb'))\n"
   ]
  },
  {
   "cell_type": "code",
   "execution_count": 60,
   "metadata": {},
   "outputs": [
    {
     "data": {
      "image/png": "[encoded data removed]",
      "text/plain": [
       "<Figure size 1000x700 with 2 Axes>"
      ]
     },
     "metadata": {},
     "output_type": "display_data"
    }
   ],
   "source": [
    "# use the confusion matrix display function from library to display the confusion matrix chart for Logistic Regression; assuming label 1 is suicidal ideation and 0 is non suicidal ideation\n",
    "cm = confusion_matrix(y_test, y_pred_lr)\n",
    "\n",
    "plt.figure(figsize=(10, 7))\n",
    "sns.heatmap(cm, annot=True, fmt='g', cmap=plt.cm.Blues)\n",
    "plt.title('Confusion Matrix for Logistic Regression')\n",
    "plt.xlabel('Predicted labels')\n",
    "plt.ylabel('True labels')\n",
    "plt.xticks([0.5, 1.5], ['non suicidal ideation', 'suicidal ideation'])\n",
    "plt.yticks([0.5, 1.5], ['non suicidal ideation', 'suicidal ideation'])\n",
    "plt.savefig('../result/pantip_model_simplified_label_lr_confusion_matrix.png')\n",
    "plt.show()\n",
    "\n"
   ]
  },
  {
   "cell_type": "code",
   "execution_count": 54,
   "metadata": {},
   "outputs": [
    {
     "data": {
      "text/html": [
       "<div>\n",
       "<style scoped>\n",
       "    .dataframe tbody tr th:only-of-type {\n",
       "        vertical-align: middle;\n",
       "    }\n",
       "\n",
       "    .dataframe tbody tr th {\n",
       "        vertical-align: top;\n",
       "    }\n",
       "\n",
       "    .dataframe thead th {\n",
       "        text-align: right;\n",
       "    }\n",
       "</style>\n",
       "<table border=\"1\" class=\"dataframe\">\n",
       "  <thead>\n",
       "    <tr style=\"text-align: right;\">\n",
       "      <th></th>\n",
       "      <th>coef</th>\n",
       "      <th>coef_abs</th>\n",
       "    </tr>\n",
       "  </thead>\n",
       "  <tbody>\n",
       "    <tr>\n",
       "      <th>ดส</th>\n",
       "      <td>7.220902</td>\n",
       "      <td>7.220902</td>\n",
       "    </tr>\n",
       "    <tr>\n",
       "      <th>จบช</th>\n",
       "      <td>5.958802</td>\n",
       "      <td>5.958802</td>\n",
       "    </tr>\n",
       "    <tr>\n",
       "      <th>การตาย</th>\n",
       "      <td>5.935402</td>\n",
       "      <td>5.935402</td>\n",
       "    </tr>\n",
       "    <tr>\n",
       "      <th>ความค</th>\n",
       "      <td>5.821617</td>\n",
       "      <td>5.821617</td>\n",
       "    </tr>\n",
       "    <tr>\n",
       "      <th>นใจ</th>\n",
       "      <td>-5.727121</td>\n",
       "      <td>5.727121</td>\n",
       "    </tr>\n",
       "    <tr>\n",
       "      <th>หาย</th>\n",
       "      <td>5.717911</td>\n",
       "      <td>5.717911</td>\n",
       "    </tr>\n",
       "    <tr>\n",
       "      <th>ทรมาน</th>\n",
       "      <td>5.716305</td>\n",
       "      <td>5.716305</td>\n",
       "    </tr>\n",
       "    <tr>\n",
       "      <th>ความตาย</th>\n",
       "      <td>5.053404</td>\n",
       "      <td>5.053404</td>\n",
       "    </tr>\n",
       "    <tr>\n",
       "      <th>บม</th>\n",
       "      <td>-5.005159</td>\n",
       "      <td>5.005159</td>\n",
       "    </tr>\n",
       "    <tr>\n",
       "      <th>บาป</th>\n",
       "      <td>4.914452</td>\n",
       "      <td>4.914452</td>\n",
       "    </tr>\n",
       "    <tr>\n",
       "      <th>กคอตาย</th>\n",
       "      <td>4.871507</td>\n",
       "      <td>4.871507</td>\n",
       "    </tr>\n",
       "    <tr>\n",
       "      <th>พยาม</th>\n",
       "      <td>4.814664</td>\n",
       "      <td>4.814664</td>\n",
       "    </tr>\n",
       "    <tr>\n",
       "      <th>ไล</th>\n",
       "      <td>4.689593</td>\n",
       "      <td>4.689593</td>\n",
       "    </tr>\n",
       "    <tr>\n",
       "      <th>รอบ</th>\n",
       "      <td>4.676533</td>\n",
       "      <td>4.676533</td>\n",
       "    </tr>\n",
       "    <tr>\n",
       "      <th>ปลอบ</th>\n",
       "      <td>-4.499011</td>\n",
       "      <td>4.499011</td>\n",
       "    </tr>\n",
       "    <tr>\n",
       "      <th>นรก</th>\n",
       "      <td>4.489051</td>\n",
       "      <td>4.489051</td>\n",
       "    </tr>\n",
       "    <tr>\n",
       "      <th>ทรมาณ</th>\n",
       "      <td>4.463432</td>\n",
       "      <td>4.463432</td>\n",
       "    </tr>\n",
       "    <tr>\n",
       "      <th>ความจร</th>\n",
       "      <td>-4.450979</td>\n",
       "      <td>4.450979</td>\n",
       "    </tr>\n",
       "    <tr>\n",
       "      <th>นก</th>\n",
       "      <td>4.400965</td>\n",
       "      <td>4.400965</td>\n",
       "    </tr>\n",
       "    <tr>\n",
       "      <th>โลก</th>\n",
       "      <td>4.312638</td>\n",
       "      <td>4.312638</td>\n",
       "    </tr>\n",
       "  </tbody>\n",
       "</table>\n",
       "</div>"
      ],
      "text/plain": [
       "             coef  coef_abs\n",
       "ดส       7.220902  7.220902\n",
       "จบช      5.958802  5.958802\n",
       "การตาย   5.935402  5.935402\n",
       "ความค    5.821617  5.821617\n",
       "นใจ     -5.727121  5.727121\n",
       "หาย      5.717911  5.717911\n",
       "ทรมาน    5.716305  5.716305\n",
       "ความตาย  5.053404  5.053404\n",
       "บม      -5.005159  5.005159\n",
       "บาป      4.914452  4.914452\n",
       "กคอตาย   4.871507  4.871507\n",
       "พยาม     4.814664  4.814664\n",
       "ไล       4.689593  4.689593\n",
       "รอบ      4.676533  4.676533\n",
       "ปลอบ    -4.499011  4.499011\n",
       "นรก      4.489051  4.489051\n",
       "ทรมาณ    4.463432  4.463432\n",
       "ความจร  -4.450979  4.450979\n",
       "นก       4.400965  4.400965\n",
       "โลก      4.312638  4.312638"
      ]
     },
     "execution_count": 54,
     "metadata": {},
     "output_type": "execute_result"
    }
   ],
   "source": [
    "# create the coefficients dataframe and sorting the values from highest to lowest\n",
    "coef_df = pd.DataFrame(lr.coef_.T, index=X_train_sm.columns, columns=['coef'])\n",
    "coef_df['coef_abs'] = coef_df['coef'].abs()\n",
    "coef_df = coef_df.sort_values(by='coef_abs', ascending=False)           \n",
    "coef_df.head(20)\n"
   ]
  },
  {
   "cell_type": "markdown",
   "metadata": {},
   "source": [
    "## Decision Tree Modeling "
   ]
  },
  {
   "cell_type": "code",
   "execution_count": 61,
   "metadata": {},
   "outputs": [],
   "source": [
    "# Run Decision Tree Model to test compute time\n",
    "dt = DecisionTreeClassifier(random_state=42, class_weight={0:1, 1:3})\n",
    "dt.fit(X_train_sm, y_train_sm)\n",
    "y_pred_dt = dt.predict(X_test_all)\n",
    "y_pred_dt_proba = dt.predict_proba(X_test_all)[:,1]\n"
   ]
  },
  {
   "cell_type": "code",
   "execution_count": 62,
   "metadata": {},
   "outputs": [],
   "source": [
    "# Set threshold for Decision Tree\n",
    "\n",
    "def get_pred_by_proba(proba, threshold=0.5):\n",
    "    return [1 if p >= threshold else 0 for p in proba]\n",
    "\n",
    "y_pred_dt = get_pred_by_proba(y_pred_dt_proba, threshold=0.1)"
   ]
  },
  {
   "cell_type": "code",
   "execution_count": 63,
   "metadata": {},
   "outputs": [
    {
     "name": "stdout",
     "output_type": "stream",
     "text": [
      "Decision Tree\n",
      "Accuracy score:  0.9026641493601846\n",
      "Precision score:  0.2534883720930233\n",
      "Recall score:  0.43253968253968256\n",
      "F1 score:  0.3196480938416423\n",
      "ROC AUC score:  0.6807216685123662\n",
      "Confusion Matrix: \n",
      " [[4194  321]\n",
      " [ 143  109]]\n",
      "Classification Report: \n",
      "               precision    recall  f1-score   support\n",
      "\n",
      "           0       0.97      0.93      0.95      4515\n",
      "           1       0.25      0.43      0.32       252\n",
      "\n",
      "    accuracy                           0.90      4767\n",
      "   macro avg       0.61      0.68      0.63      4767\n",
      "weighted avg       0.93      0.90      0.91      4767\n",
      "\n"
     ]
    }
   ],
   "source": [
    "# evaluate the model both test and train model comparison for Decision Tree\n",
    "\n",
    "print('Decision Tree')\n",
    "print('Accuracy score: ', accuracy_score(y_test, y_pred_dt))\n",
    "print('Precision score: ', precision_score(y_test, y_pred_dt))\n",
    "print('Recall score: ', recall_score(y_test, y_pred_dt))\n",
    "print('F1 score: ', f1_score(y_test, y_pred_dt))\n",
    "print('ROC AUC score: ', roc_auc_score(y_test, y_pred_dt))\n",
    "print('Confusion Matrix: \\n', confusion_matrix(y_test, y_pred_dt))\n",
    "print('Classification Report: \\n', classification_report(y_test, y_pred_dt))\n"
   ]
  },
  {
   "cell_type": "code",
   "execution_count": 64,
   "metadata": {},
   "outputs": [],
   "source": [
    "# save classification report to csv file\n",
    "report = classification_report(y_test, y_pred_dt, output_dict=True)\n",
    "df = pd.DataFrame(report).transpose()\n",
    "df.to_csv('../result/pantip_model_simplifeid_label_dt_classification_report.csv', index=False)"
   ]
  },
  {
   "cell_type": "code",
   "execution_count": 65,
   "metadata": {},
   "outputs": [
    {
     "data": {
      "image/png": "[encoded data removed]",
      "text/plain": [
       "<Figure size 1000x700 with 2 Axes>"
      ]
     },
     "metadata": {},
     "output_type": "display_data"
    }
   ],
   "source": [
    "# use the confusion matrix display function from library to display the confusion matrix chart for Logistic Regression; assuming label 1 is suicidal ideation and 0 is non suicidal ideation\n",
    "cm = confusion_matrix(y_test, y_pred_dt)\n",
    "\n",
    "plt.figure(figsize=(10, 7))\n",
    "sns.heatmap(cm, annot=True, fmt='g', cmap=plt.cm.Blues)\n",
    "plt.title('Confusion Matrix for Decision Tree')\n",
    "plt.xlabel('Predicted labels')\n",
    "plt.ylabel('True labels')\n",
    "plt.xticks([0.5, 1.5], ['non suicidal ideation', 'suicidal ideation'])\n",
    "plt.yticks([0.5, 1.5], ['non suicidal ideation', 'suicidal ideation'])\n",
    "plt.savefig('../result/pantip_model_simplified_label_dt_confusion_matrix.png')\n",
    "plt.show()"
   ]
  }
 ],
 "metadata": {
  "kernelspec": {
   "display_name": "Python 3 (ipykernel)",
   "language": "python",
   "name": "python3"
  },
  "language_info": {
   "codemirror_mode": {
    "name": "ipython",
    "version": 3
   },
   "file_extension": ".py",
   "mimetype": "text/x-python",
   "name": "python",
   "nbconvert_exporter": "python",
   "pygments_lexer": "ipython3",
   "version": "3.11.5"
  }
 },
 "nbformat": 4,
 "nbformat_minor": 2
}
