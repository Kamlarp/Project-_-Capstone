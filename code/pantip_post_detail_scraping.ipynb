{
 "cells": [
  {
   "cell_type": "code",
   "execution_count": 1,
   "metadata": {},
   "outputs": [],
   "source": [
    "from selenium import webdriver\n",
    "from selenium.webdriver.common.by import By\n",
    "from bs4 import BeautifulSoup\n",
    "import pandas as pd\n",
    "from tqdm import tqdm\n",
    "from time import sleep\n",
    "import json, os"
   ]
  },
  {
   "cell_type": "markdown",
   "metadata": {},
   "source": [
    "# get page"
   ]
  },
  {
   "cell_type": "code",
   "execution_count": 2,
   "metadata": {},
   "outputs": [],
   "source": [
    "driver = webdriver.Chrome()"
   ]
  },
  {
   "cell_type": "code",
   "execution_count": 3,
   "metadata": {},
   "outputs": [],
   "source": [
    "url = 'https://pantip.com/topic/42367932'\n",
    "driver.get(url)"
   ]
  },
  {
   "cell_type": "markdown",
   "metadata": {},
   "source": [
    "# get post content"
   ]
  },
  {
   "cell_type": "code",
   "execution_count": 4,
   "metadata": {},
   "outputs": [
    {
     "data": {
      "text/plain": [
       "{'title': 'อยากจบชีวิตตัวเอง เพราะชีวิตเหมือนตายทั้งเป็น',\n",
       " 'tags': ['ปัญหาชีวิต', 'สุขภาพจิต', 'โรคซึมเศร้า'],\n",
       " 'text': 'ผิดไหม? ถ้าเราอยากจากโลกนี้ไปตลอดกาล...\\n\\nขอโทษที่เราต้องตั้งกระทู้ที่สิ้นคิดแบบนี้ ไม่คิดเหมือนกันว่าตัวเองจะมาถึงจุดนี้ หมดแรงที่จะสู้ต่อไปแล้ว ภายนอกพังยับเยิน ภายในแทบไม่เหลือชิ้นดี',\n",
       " 'profile': 'https://pantip.com/profile/7860906',\n",
       " 'time': '11/27/2023 13:47:44'}"
      ]
     },
     "execution_count": 4,
     "metadata": {},
     "output_type": "execute_result"
    }
   ],
   "source": [
    "soup = BeautifulSoup(driver.page_source)\n",
    "main_post = soup.select_one('div.main-post-inner')\n",
    "\n",
    "title = main_post.h2.text.strip()\n",
    "tags = [tag.text.strip() for tag in main_post.select('a.tag-item')]\n",
    "text = main_post.select_one('div.display-post-story').get_text(separator='\\n').strip()\n",
    "profile = main_post.select_one('div.display-post-avatar').a.get('href')\n",
    "time =  main_post.select_one('div.display-post-avatar').abbr.get('data-utime')\n",
    "\n",
    "{\n",
    "    'title': title,\n",
    "    'tags': tags,\n",
    "    'text': text,\n",
    "    'profile': profile,\n",
    "    'time': time\n",
    "}"
   ]
  },
  {
   "cell_type": "code",
   "execution_count": 5,
   "metadata": {},
   "outputs": [],
   "source": [
    "# make function\n",
    "def get_one_post(soup):\n",
    "    main_post = soup.select_one('div.main-post-inner')\n",
    "\n",
    "    title = main_post.h2.text.strip()\n",
    "    tags = [tag.text.strip() for tag in main_post.select('a.tag-item')]\n",
    "    text = main_post.select_one('div.display-post-story').get_text(separator='\\n').strip()\n",
    "    profile = main_post.select_one('div.display-post-avatar').a.get('href')\n",
    "    time =  main_post.select_one('div.display-post-avatar').abbr.get('data-utime')\n",
    "\n",
    "    return {\n",
    "        'title': title,\n",
    "        'tags': tags,\n",
    "        'text': text,\n",
    "        'profile': profile,\n",
    "        'time': time\n",
    "    }"
   ]
  },
  {
   "cell_type": "markdown",
   "metadata": {},
   "source": [
    "# for loop"
   ]
  },
  {
   "cell_type": "code",
   "execution_count": 8,
   "metadata": {},
   "outputs": [
    {
     "data": {
      "text/plain": [
       "0     https://pantip.com/topic/42367932\n",
       "2     https://pantip.com/topic/42367590\n",
       "3     https://pantip.com/topic/42367222\n",
       "4     https://pantip.com/topic/42367045\n",
       "5     https://pantip.com/topic/42366704\n",
       "6     https://pantip.com/topic/42366678\n",
       "7     https://pantip.com/topic/42366406\n",
       "8     https://pantip.com/topic/42365976\n",
       "9     https://pantip.com/topic/42365939\n",
       "10    https://pantip.com/topic/42365259\n",
       "Name: 0, dtype: object"
      ]
     },
     "execution_count": 8,
     "metadata": {},
     "output_type": "execute_result"
    }
   ],
   "source": [
    "df = pd.read_csv('../output - wip/df_pantip_depression_post_url.csv')\n",
    "df.drop(index=[1], inplace=True)\n",
    "\n",
    "url_to_scrape = df['0']\n",
    "\n",
    "url_to_scrape[:10]"
   ]
  },
  {
   "cell_type": "code",
   "execution_count": 3,
   "metadata": {},
   "outputs": [
    {
     "name": "stdout",
     "output_type": "stream",
     "text": [
      "Num of URL : 24100\n"
     ]
    },
    {
     "name": "stderr",
     "output_type": "stream",
     "text": [
      "100%|██████████| 5000/5000 [00:00<?, ?it/s]\n"
     ]
    }
   ],
   "source": [
    "filename = 'pantip_suicide.json'\n",
    "\n",
    "## open scraped file\n",
    "if os.path.exists(filename):\n",
    "    with open(filename, 'r', encoding='utf8') as f:\n",
    "        data = json.load(f)\n",
    "else:\n",
    "    data = []\n",
    "\n",
    "## make unscraped urls\n",
    "if len(data) != 0:\n",
    "    scraped_url = [dic['url'] for dic in data]\n",
    "    url_to_scrape = sorted(set(url_to_scrape) - set(scraped_url)) # set difference\n",
    "\n",
    "print('Num of URL :', len(url_to_scrape))\n",
    "\n",
    "## continue to scrape\n",
    "for url in tqdm(url_to_scrape[:5000]):\n",
    "    try:\n",
    "        driver.get(url)\n",
    "        soup = BeautifulSoup(driver.page_source)\n",
    "        dic = get_one_post(soup)\n",
    "        dic['url'] = url\n",
    "        data.append(dic)\n",
    "\n",
    "        # save as json file\n",
    "        with open('pantip_suicide.json', 'w', encoding='utf8') as f:\n",
    "            json.dump(data, f, indent=2, ensure_ascii=False)\n",
    "    except:\n",
    "        pass"
   ]
  },
  {
   "cell_type": "markdown",
   "metadata": {},
   "source": [
    "# open file"
   ]
  },
  {
   "cell_type": "code",
   "execution_count": 15,
   "metadata": {},
   "outputs": [
    {
     "data": {
      "text/html": [
       "<div>\n",
       "<style scoped>\n",
       "    .dataframe tbody tr th:only-of-type {\n",
       "        vertical-align: middle;\n",
       "    }\n",
       "\n",
       "    .dataframe tbody tr th {\n",
       "        vertical-align: top;\n",
       "    }\n",
       "\n",
       "    .dataframe thead th {\n",
       "        text-align: right;\n",
       "    }\n",
       "</style>\n",
       "<table border=\"1\" class=\"dataframe\">\n",
       "  <thead>\n",
       "    <tr style=\"text-align: right;\">\n",
       "      <th></th>\n",
       "      <th>title</th>\n",
       "      <th>tags</th>\n",
       "      <th>text</th>\n",
       "      <th>profile</th>\n",
       "      <th>time</th>\n",
       "      <th>url</th>\n",
       "    </tr>\n",
       "  </thead>\n",
       "  <tbody>\n",
       "    <tr>\n",
       "      <th>0</th>\n",
       "      <td>อยากจบชีวิตตัวเอง เพราะชีวิตเหมือนตายทั้งเป็น</td>\n",
       "      <td>[ปัญหาชีวิต, สุขภาพจิต, โรคซึมเศร้า]</td>\n",
       "      <td>ผิดไหม? ถ้าเราอยากจากโลกนี้ไปตลอดกาล...\\n\\nขอโ...</td>\n",
       "      <td>https://pantip.com/profile/7860906</td>\n",
       "      <td>11/27/2023 13:47:44</td>\n",
       "      <td>https://pantip.com/topic/42367932</td>\n",
       "    </tr>\n",
       "    <tr>\n",
       "      <th>1</th>\n",
       "      <td>ความคิด</td>\n",
       "      <td>[โรคย้ำคิดย้ำทำ, สุขภาพจิต, โรคซึมเศร้า]</td>\n",
       "      <td>ตอนนี้รู้สึกเบื่อจากที่เคยชอบก็ไม่ชอบแล้ว รู้ส...</td>\n",
       "      <td>https://pantip.com/profile/7860635</td>\n",
       "      <td>11/27/2023 10:36:11</td>\n",
       "      <td>https://pantip.com/topic/42367590</td>\n",
       "    </tr>\n",
       "    <tr>\n",
       "      <th>2</th>\n",
       "      <td>ขอวิธีหลุดพ้นจากคนที่ไม่ได้รัก</td>\n",
       "      <td>[โรคซึมเศร้า, ศาลาคนเศร้า]</td>\n",
       "      <td>เรื่องคือ เราคบกับเขาได้2-3ปีเเล้วตอนนี้ เรารั...</td>\n",
       "      <td>https://pantip.com/profile/7860394</td>\n",
       "      <td>11/27/2023 03:43:29</td>\n",
       "      <td>https://pantip.com/topic/42367222</td>\n",
       "    </tr>\n",
       "    <tr>\n",
       "      <th>3</th>\n",
       "      <td>อาการแบบนี้เข้าข่ายโรคซึมเศร้ามั้ยครับ</td>\n",
       "      <td>[โรคซึมเศร้า, โรคย้ำคิดย้ำทำ, สุขภาพจิต, จิตแพ...</td>\n",
       "      <td>ตามหัวกระทู้เลยครับ\\n\\n\\n\\nขอเกริ่นก่อนว่าตอนน...</td>\n",
       "      <td>https://pantip.com/profile/7860223</td>\n",
       "      <td>11/27/2023 00:09:00</td>\n",
       "      <td>https://pantip.com/topic/42367045</td>\n",
       "    </tr>\n",
       "    <tr>\n",
       "      <th>4</th>\n",
       "      <td>เราไม่รู้ว่าเราเป็นโรคซึมเศร้ามั้ย</td>\n",
       "      <td>[โรคซึมเศร้า]</td>\n",
       "      <td>แต่อาการเราคล้ายมากไม่รู้คิดเองไปหรือเปล่า อาก...</td>\n",
       "      <td>https://pantip.com/profile/7859934</td>\n",
       "      <td>11/26/2023 20:41:24</td>\n",
       "      <td>https://pantip.com/topic/42366704</td>\n",
       "    </tr>\n",
       "    <tr>\n",
       "      <th>...</th>\n",
       "      <td>...</td>\n",
       "      <td>...</td>\n",
       "      <td>...</td>\n",
       "      <td>...</td>\n",
       "      <td>...</td>\n",
       "      <td>...</td>\n",
       "    </tr>\n",
       "    <tr>\n",
       "      <th>24087</th>\n",
       "      <td>เครียดจนกินไม่ได้</td>\n",
       "      <td>[โภชนาการ, โรคซึมเศร้า, สุขภาพจิต, จิตแพทย์]</td>\n",
       "      <td>มีใครเครียดจนกินไม่ได้บ้างคะ คือกินไม่ลงจิงๆวั...</td>\n",
       "      <td>https://pantip.com/profile/7686765</td>\n",
       "      <td>11/23/2023 10:51:32</td>\n",
       "      <td>https://pantip.com/topic/42359912</td>\n",
       "    </tr>\n",
       "    <tr>\n",
       "      <th>24088</th>\n",
       "      <td>เป็นซึมเศร้า รู้สึกว่าตัวเองล้มเหลวในเรื่องการ...</td>\n",
       "      <td>[โรคซึมเศร้า, สุขภาพจิต, ปัญหาชีวิต]</td>\n",
       "      <td>เราเคยทำงานบ.ที่ขึ้นชื่อเรื่องความกดดัน 2 ตำแห...</td>\n",
       "      <td>https://pantip.com/profile/7735837</td>\n",
       "      <td>11/23/2023 14:35:23</td>\n",
       "      <td>https://pantip.com/topic/42360378</td>\n",
       "    </tr>\n",
       "    <tr>\n",
       "      <th>24089</th>\n",
       "      <td>อยู่ม.2เทอม2 ย้ายที่เรียนได้ไหมคะ</td>\n",
       "      <td>[โรคซึมเศร้า, การศึกษานอกโรงเรียน (กศน.), การเ...</td>\n",
       "      <td>สวัสดีค่า หนูชื่ออลันนะคะ อายุ14 ตามหัวข้อเลยค...</td>\n",
       "      <td>https://pantip.com/profile/7854615</td>\n",
       "      <td>11/23/2023 15:15:56</td>\n",
       "      <td>https://pantip.com/topic/42360444</td>\n",
       "    </tr>\n",
       "    <tr>\n",
       "      <th>24090</th>\n",
       "      <td>ทำไมเมื่ออายุมากขึ้น ความสุขในชีวิต ยิ่งน้อยลง</td>\n",
       "      <td>[ปัญหาชีวิต, สุขภาพจิต, โรคซึมเศร้า, จิตวิทยา ...</td>\n",
       "      <td>ทำไมเมื่ออายุมากขึ้น ความสุขในชีวิต ยิ่งน้อยลง...</td>\n",
       "      <td>https://pantip.com/profile/2414611</td>\n",
       "      <td>11/23/2023 20:15:21</td>\n",
       "      <td>https://pantip.com/topic/42361003</td>\n",
       "    </tr>\n",
       "    <tr>\n",
       "      <th>24091</th>\n",
       "      <td>อยากรู้ว่าคัวเองเข้าค่ายคนเป็นโรคซึมเศร้ารึยังคะ?</td>\n",
       "      <td>[โรคซึมเศร้า, สุขภาพจิต, ปัญหาวัยรุ่น, ปัญหาชี...</td>\n",
       "      <td>รู้สึกว่าอารมณ์ของตัวเองช่วงนี้แปลกไปค่ะ เมื่อ...</td>\n",
       "      <td>https://pantip.com/profile/7856704</td>\n",
       "      <td>11/24/2023 18:45:31</td>\n",
       "      <td>https://pantip.com/topic/42362791</td>\n",
       "    </tr>\n",
       "  </tbody>\n",
       "</table>\n",
       "<p>24092 rows × 6 columns</p>\n",
       "</div>"
      ],
      "text/plain": [
       "                                                   title  \\\n",
       "0          อยากจบชีวิตตัวเอง เพราะชีวิตเหมือนตายทั้งเป็น   \n",
       "1                                                ความคิด   \n",
       "2                         ขอวิธีหลุดพ้นจากคนที่ไม่ได้รัก   \n",
       "3                 อาการแบบนี้เข้าข่ายโรคซึมเศร้ามั้ยครับ   \n",
       "4                     เราไม่รู้ว่าเราเป็นโรคซึมเศร้ามั้ย   \n",
       "...                                                  ...   \n",
       "24087                                  เครียดจนกินไม่ได้   \n",
       "24088  เป็นซึมเศร้า รู้สึกว่าตัวเองล้มเหลวในเรื่องการ...   \n",
       "24089                  อยู่ม.2เทอม2 ย้ายที่เรียนได้ไหมคะ   \n",
       "24090     ทำไมเมื่ออายุมากขึ้น ความสุขในชีวิต ยิ่งน้อยลง   \n",
       "24091  อยากรู้ว่าคัวเองเข้าค่ายคนเป็นโรคซึมเศร้ารึยังคะ?   \n",
       "\n",
       "                                                    tags  \\\n",
       "0                   [ปัญหาชีวิต, สุขภาพจิต, โรคซึมเศร้า]   \n",
       "1               [โรคย้ำคิดย้ำทำ, สุขภาพจิต, โรคซึมเศร้า]   \n",
       "2                             [โรคซึมเศร้า, ศาลาคนเศร้า]   \n",
       "3      [โรคซึมเศร้า, โรคย้ำคิดย้ำทำ, สุขภาพจิต, จิตแพ...   \n",
       "4                                          [โรคซึมเศร้า]   \n",
       "...                                                  ...   \n",
       "24087       [โภชนาการ, โรคซึมเศร้า, สุขภาพจิต, จิตแพทย์]   \n",
       "24088               [โรคซึมเศร้า, สุขภาพจิต, ปัญหาชีวิต]   \n",
       "24089  [โรคซึมเศร้า, การศึกษานอกโรงเรียน (กศน.), การเ...   \n",
       "24090  [ปัญหาชีวิต, สุขภาพจิต, โรคซึมเศร้า, จิตวิทยา ...   \n",
       "24091  [โรคซึมเศร้า, สุขภาพจิต, ปัญหาวัยรุ่น, ปัญหาชี...   \n",
       "\n",
       "                                                    text  \\\n",
       "0      ผิดไหม? ถ้าเราอยากจากโลกนี้ไปตลอดกาล...\\n\\nขอโ...   \n",
       "1      ตอนนี้รู้สึกเบื่อจากที่เคยชอบก็ไม่ชอบแล้ว รู้ส...   \n",
       "2      เรื่องคือ เราคบกับเขาได้2-3ปีเเล้วตอนนี้ เรารั...   \n",
       "3      ตามหัวกระทู้เลยครับ\\n\\n\\n\\nขอเกริ่นก่อนว่าตอนน...   \n",
       "4      แต่อาการเราคล้ายมากไม่รู้คิดเองไปหรือเปล่า อาก...   \n",
       "...                                                  ...   \n",
       "24087  มีใครเครียดจนกินไม่ได้บ้างคะ คือกินไม่ลงจิงๆวั...   \n",
       "24088  เราเคยทำงานบ.ที่ขึ้นชื่อเรื่องความกดดัน 2 ตำแห...   \n",
       "24089  สวัสดีค่า หนูชื่ออลันนะคะ อายุ14 ตามหัวข้อเลยค...   \n",
       "24090  ทำไมเมื่ออายุมากขึ้น ความสุขในชีวิต ยิ่งน้อยลง...   \n",
       "24091  รู้สึกว่าอารมณ์ของตัวเองช่วงนี้แปลกไปค่ะ เมื่อ...   \n",
       "\n",
       "                                  profile                 time  \\\n",
       "0      https://pantip.com/profile/7860906  11/27/2023 13:47:44   \n",
       "1      https://pantip.com/profile/7860635  11/27/2023 10:36:11   \n",
       "2      https://pantip.com/profile/7860394  11/27/2023 03:43:29   \n",
       "3      https://pantip.com/profile/7860223  11/27/2023 00:09:00   \n",
       "4      https://pantip.com/profile/7859934  11/26/2023 20:41:24   \n",
       "...                                   ...                  ...   \n",
       "24087  https://pantip.com/profile/7686765  11/23/2023 10:51:32   \n",
       "24088  https://pantip.com/profile/7735837  11/23/2023 14:35:23   \n",
       "24089  https://pantip.com/profile/7854615  11/23/2023 15:15:56   \n",
       "24090  https://pantip.com/profile/2414611  11/23/2023 20:15:21   \n",
       "24091  https://pantip.com/profile/7856704  11/24/2023 18:45:31   \n",
       "\n",
       "                                     url  \n",
       "0      https://pantip.com/topic/42367932  \n",
       "1      https://pantip.com/topic/42367590  \n",
       "2      https://pantip.com/topic/42367222  \n",
       "3      https://pantip.com/topic/42367045  \n",
       "4      https://pantip.com/topic/42366704  \n",
       "...                                  ...  \n",
       "24087  https://pantip.com/topic/42359912  \n",
       "24088  https://pantip.com/topic/42360378  \n",
       "24089  https://pantip.com/topic/42360444  \n",
       "24090  https://pantip.com/topic/42361003  \n",
       "24091  https://pantip.com/topic/42362791  \n",
       "\n",
       "[24092 rows x 6 columns]"
      ]
     },
     "execution_count": 15,
     "metadata": {},
     "output_type": "execute_result"
    }
   ],
   "source": [
    "pd.read_json('../output/pantip_suicide.json')"
   ]
  },
  {
   "cell_type": "code",
   "execution_count": 16,
   "metadata": {},
   "outputs": [],
   "source": [
    "df_pantip_depression_post = pd.read_json('../output/pantip_suicide.json')"
   ]
  },
  {
   "cell_type": "code",
   "execution_count": 17,
   "metadata": {},
   "outputs": [
    {
     "data": {
      "text/plain": [
       "False"
      ]
     },
     "execution_count": 17,
     "metadata": {},
     "output_type": "execute_result"
    }
   ],
   "source": [
    "df_pantip_depression_post.duplicated(subset = ['url']).any()"
   ]
  },
  {
   "cell_type": "code",
   "execution_count": 18,
   "metadata": {},
   "outputs": [
    {
     "name": "stdout",
     "output_type": "stream",
     "text": [
      "Number of rows containing the keywords: 2319\n",
      "                                                   title  \\\n",
      "0          อยากจบชีวิตตัวเอง เพราะชีวิตเหมือนตายทั้งเป็น   \n",
      "5      แม่พูดย้ำๆให้ผมไปตายเพื่อชดใช้ความผิด ผมควรเลื...   \n",
      "10     ช่วยให้คำเเนะนำรุ่นน้อง ที่อยากฆ่าตัวตายหน่อยครับ   \n",
      "13                                       เมื่อคุณอยากตาย   \n",
      "42     ขี้ลืมมากความจำสั้นโคตรๆเฉื่อยช้ามากไม่มีชีวิต...   \n",
      "...                                                  ...   \n",
      "24021               โรคซึมเศร้า ไม่อยากมีชีวิตอยู่ต่อ...   \n",
      "24029                          ไม่อยากมีชีวิตอยู่แล้วล่ะ   \n",
      "24039              เราไม่มีอะไรยึดเหนี่ยวในการมีชีวิตต่อ   \n",
      "24049  จำเป็นไหมครับ คนที่คิดสั้นฆ่าตัวตายจะต้องเป็นโ...   \n",
      "24057         มีความรู้สึกที่ไม่อยากมีชีวิตอยู่ต่อไปแล้ว   \n",
      "\n",
      "                                                    tags  \\\n",
      "0                   [ปัญหาชีวิต, สุขภาพจิต, โรคซึมเศร้า]   \n",
      "5      [โรคซึมเศร้า, สุขภาพจิต, กฎหมายชาวบ้าน, การเงิ...   \n",
      "10     [โรคซึมเศร้า, สุขภาพจิต, ปัญหาชีวิต, จิตแพทย์,...   \n",
      "13                                         [โรคซึมเศร้า]   \n",
      "42     [โรคสมาธิสั้น (ADHD), โรคซึมเศร้า, สังคมชาวพัน...   \n",
      "...                                                  ...   \n",
      "24021                                      [โรคซึมเศร้า]   \n",
      "24029               [สุขภาพจิต, โรคซึมเศร้า, ปัญหาชีวิต]   \n",
      "24039           [สุขภาพจิต, โรคซึมเศร้า, โรคย้ำคิดย้ำทำ]   \n",
      "24049                                      [โรคซึมเศร้า]   \n",
      "24057                                      [โรคซึมเศร้า]   \n",
      "\n",
      "                                                    text  \\\n",
      "0      ผิดไหม? ถ้าเราอยากจากโลกนี้ไปตลอดกาล...\\n\\nขอโ...   \n",
      "5      ผมเป็นลูกชายคนเดียวของที่บ้าน อาศัยอยู่ด้วยกัน...   \n",
      "10     ผมมีรุ่นน้อง ที่ เหมือน น้องเเท้ๆ ซึ่งผมกับนาง...   \n",
      "13     เราเป็นซึมเศร้า เราผ่านการฆ่าตัวตายมาแล้วตอนนี...   \n",
      "42     สวัสดีเพื่อนๆชาวพันทิปทุกคน เราชื่อแก้วนะอายุ1...   \n",
      "...                                                  ...   \n",
      "24021  คือเรื่องของเรื่อง คือ เพื่อนเรา เลิกกับแฟนที่...   \n",
      "24029  สวัสดีค่ะ เราอายุ23 ไม่มีอะไรมากเลย แค่รู้สึกไ...   \n",
      "24039  เราพยายามมากที่จะมีชีวิตต่อแต่ไม่มีอะไรเอื้ออำ...   \n",
      "24049  จำเป็นไหมครับ คนที่คิดสั้นฆ่าตัวตายจะต้องเป็นโ...   \n",
      "24057  เรามีความรู้สึกที่ไม่อยากมีชีวิตอยู่ต่อไปแล้วอ...   \n",
      "\n",
      "                                  profile                 time  \\\n",
      "0      https://pantip.com/profile/7860906  11/27/2023 13:47:44   \n",
      "5      https://pantip.com/profile/2226154  11/26/2023 20:24:59   \n",
      "10     https://pantip.com/profile/7486682  11/25/2023 21:38:09   \n",
      "13     https://pantip.com/profile/7858268  11/25/2023 18:00:56   \n",
      "42     https://pantip.com/profile/3132806  06/15/2016 21:20:18   \n",
      "...                                   ...                  ...   \n",
      "24021  https://pantip.com/profile/7450593  11/13/2023 01:48:51   \n",
      "24029  https://pantip.com/profile/5624918  11/14/2023 04:24:36   \n",
      "24039  https://pantip.com/profile/7564686  11/15/2023 17:40:50   \n",
      "24049   https://pantip.com/profile/876843  11/17/2023 19:03:45   \n",
      "24057  https://pantip.com/profile/6749085  11/18/2023 09:45:01   \n",
      "\n",
      "                                     url  \n",
      "0      https://pantip.com/topic/42367932  \n",
      "5      https://pantip.com/topic/42366678  \n",
      "10     https://pantip.com/topic/42365006  \n",
      "13     https://pantip.com/topic/42364617  \n",
      "42     https://pantip.com/topic/35276277  \n",
      "...                                  ...  \n",
      "24021  https://pantip.com/topic/42339054  \n",
      "24029  https://pantip.com/topic/42341286  \n",
      "24039  https://pantip.com/topic/42344624  \n",
      "24049  https://pantip.com/topic/42348901  \n",
      "24057  https://pantip.com/topic/42349705  \n",
      "\n",
      "[2319 rows x 6 columns]\n"
     ]
    }
   ],
   "source": [
    "# Define the list of keywords to search for in the 'title' or 'text' column\n",
    "keywords = ['suicide', 'suicides', 'suicided', 'suicidal', 'suici',\n",
    "            'harm',\t'harms', 'harmed',\n",
    "            'อยากฆตต', \"ฆตต\",\n",
    "            \"อยากฆ่าตัวตาย\", \"ฆ่าตัวตาย\",\n",
    "            \"อยากค่าตัวตาย\", \"ค่าตัวตาย\",\n",
    "            \"อยากจบชีวิต\", \"จบชีวิต\", \n",
    "            \"อยากสิ้นชีวิต\", \"สิ้นชีวิต\",\n",
    "            \"อยากคิดสั้น\", \"คิดสั้น\",\n",
    "            \"อยากโดดตึก\", \"โดดตึก\",\n",
    "            'อยากโดดน้ำ',\t'โดดน้ำ',\n",
    "            'อยากโดดสะพาน',\t'โดดสะพาน',\n",
    "            'อยากโดดที่สูง',\t'โดดที่สูง',\n",
    "            'อยากโดดจากที่สูง',\t'โดดจากที่สูง',\n",
    "            'อยากโดดให้รถชน',\t'โดดให้รถชน',\n",
    "            \"อยากแขวนคอ\", \"แขวนคอ\",\n",
    "            \"อยากกินยาพิษ\", \"กินยาพิษ\",\n",
    "            \"อยากกินยาเกินขนาด\", \"กินยาเกินขนาด\",\n",
    "            'อยากกินยาฆ่าแมลง',\t'กินยาฆ่าแมลง',\n",
    "            'อยากกินยาเบือหนู',\t'กินยาเบื่อหนู',\n",
    "            'อยากยิงตัวตาย',\t'ยิงตัวตาย',\n",
    "            'อยากยิงหัวตัวเอง',\t'ยิงหัวตัวเอง',\n",
    "            'อยากกรีดข้อมือ',\t'กรีดข้อมือ',\n",
    "            'อยากทำร้ายตัวเอง',\t'ทำร้ายตัวเอง',\n",
    "            'อยากตายบ่อย',\t'อยากตายตลอด',\t'อยากตายทุกวัน',\t'อยากตายมาก',\n",
    "            \n",
    "            \"อยากหายไปจากโลก\", \"หายไปจากโลก\", \n",
    "            \"อยากหายจากโลก\", \"หายจากโลก\", \n",
    "            \"อยากหายตัวไป\", \"หายตัวไป\",\n",
    "            \"อยากหายไป\", \"หายไป\",\n",
    "            'อยากหายจากบ้าน',\t'หายจากบ้าน',\n",
    "            \"ไม่อยากมีชีวิต\", \"ไม่มีชีวิต\", \n",
    "            \"ไม่อยากตื่น\", \"ไม่ตื่น\", \n",
    "            'อยากนอนไปตลอด', 'นอนไปตลอด',\n",
    "            'อยากนอนตลอดไป', 'นอนตลอดไป',\n",
    "            \"ไม่อยากอยู่ต่อ\", \"ไม่อยู่ต่อ\", \n",
    "            'ไม่อยากอยู่บนโลก',\t'ไม่อยู่บนโลก',\n",
    "            'ไม่อยากอยู่',\t'ไม่อยู่',\n",
    "            'อยากหนีไปจากโลก',\t'หนีไปจากโลก',\n",
    "            'อยากหนีไปจากบ้าน',\t'หนีไปจากบ้าน',\n",
    "            'อยากหนีไป', 'หนีไป',\n",
    "            'อยากหนี',\t'หนี',\n",
    "            'อยากให้โลกแตก', 'โลกแตก',\n",
    "            'อยากให้โลกหายไป',\t'โลกหายไป',\n",
    "            'อยากให้โลกจบสิ้น',\t'โลกจบสิ้น',\n",
    "            'อยากให้รถชนตาย', 'อยากให้รถชน',\n",
    "            \"อยากตาย\", \"ตาย\",\n",
    "            'escape',\t'escapes',\t'escaped',\t\t\n",
    "            'die',\t'dies',\t'died',\t'dying', 'dead',\t'death',  'deaths'\n",
    "            ]\n",
    "\n",
    "# Filter rows containing the keywords in the 'title' column\n",
    "df_pantip_suicidal_post_title = df_pantip_depression_post[df_pantip_depression_post['title'].str.contains('|'.join(keywords))]\n",
    "\n",
    "# Count the number of rows in the filtered DataFrame\n",
    "count_of_matching_rows = len(df_pantip_suicidal_post_title)\n",
    "\n",
    "# Display the count and the df_pantip_suicidal_post DataFrame\n",
    "print(f\"Number of rows containing the keywords: {count_of_matching_rows}\")\n",
    "print(df_pantip_suicidal_post_title)"
   ]
  },
  {
   "cell_type": "code",
   "execution_count": 19,
   "metadata": {},
   "outputs": [
    {
     "name": "stdout",
     "output_type": "stream",
     "text": [
      "Number of rows containing the keywords: 10776\n",
      "                                                   title  \\\n",
      "3                 อาการแบบนี้เข้าข่ายโรคซึมเศร้ามั้ยครับ   \n",
      "4                     เราไม่รู้ว่าเราเป็นโรคซึมเศร้ามั้ย   \n",
      "5      แม่พูดย้ำๆให้ผมไปตายเพื่อชดใช้ความผิด ผมควรเลื...   \n",
      "6      อกหักจนเป็นซึมเศร้า อยากรู้แต่ละคนผ่านช่วงเวลา...   \n",
      "9                           ทำใจยังไงให้ได้จากการสูญเสีย   \n",
      "...                                                  ...   \n",
      "24076  (ชวนคุย) ทำไมการุณยฆาตถึงถูกพูดแต่ในแง่ของความ...   \n",
      "24078  โรคใหม่ -Post Vaccine Syndrome- งานศึกษาพบทำให...   \n",
      "24079  เมื่อคนที่เรารักมากๆ ป่วยหนัก เรามีวิธีจัดการก...   \n",
      "24081  ขอสอบถามได้ไหมคะ เราสงสัยว่าเราเป็นซึมเศร้าขั้...   \n",
      "24091  อยากรู้ว่าคัวเองเข้าค่ายคนเป็นโรคซึมเศร้ารึยังคะ?   \n",
      "\n",
      "                                                    tags  \\\n",
      "3      [โรคซึมเศร้า, โรคย้ำคิดย้ำทำ, สุขภาพจิต, จิตแพ...   \n",
      "4                                          [โรคซึมเศร้า]   \n",
      "5      [โรคซึมเศร้า, สุขภาพจิต, กฎหมายชาวบ้าน, การเงิ...   \n",
      "6      [ประสบการณ์ชีวิตคู่, ปัญหาความรัก, ศาลาคนเศร้า...   \n",
      "9                   [สุขภาพจิต, โรคซึมเศร้า, ปัญหาชีวิต]   \n",
      "...                                                  ...   \n",
      "24076  [โรคซึมเศร้า, สุขภาพจิต, สุขภาพกาย, โรงพยาบาลจ...   \n",
      "24078            [ยา, สุขภาพกาย, สุขภาพจิต, โรคซึมเศร้า]   \n",
      "24079  [สุขภาพจิต, โรงพยาบาลผู้สูงอายุ, โรคซึมเศร้า, ...   \n",
      "24081               [โรคซึมเศร้า, สุขภาพจิต, ปัญหาชีวิต]   \n",
      "24091  [โรคซึมเศร้า, สุขภาพจิต, ปัญหาวัยรุ่น, ปัญหาชี...   \n",
      "\n",
      "                                                    text  \\\n",
      "3      ตามหัวกระทู้เลยครับ\\n\\n\\n\\nขอเกริ่นก่อนว่าตอนน...   \n",
      "4      แต่อาการเราคล้ายมากไม่รู้คิดเองไปหรือเปล่า อาก...   \n",
      "5      ผมเป็นลูกชายคนเดียวของที่บ้าน อาศัยอยู่ด้วยกัน...   \n",
      "6      คือ เลิกกับแฟนแล้วดิ่งมาก เขาทำหนูเจ็บมากจนทำใ...   \n",
      "9      ผ่านมา2จะ3เดือนแล้วที่พ่อเราได้เสียชีวิตไปตลอด...   \n",
      "...                                                  ...   \n",
      "24076  (ชวนคุย) ทำไมการุณยฆาตถึงถูกพูดแต่ในแง่ของความ...   \n",
      "24078  *จากงานศึกษาที่เพิ่งเผยแพร่วันที่ 10 พย. 2023\\...   \n",
      "24079  แม่ของเราป่วยหนัก และต้องเข้าโรงพยาบาล อาการไม...   \n",
      "24081  สวัดดีค่ะ คือเรามาขอปรึกษา เรื่องปัญหาอารมณ์ขอ...   \n",
      "24091  รู้สึกว่าอารมณ์ของตัวเองช่วงนี้แปลกไปค่ะ เมื่อ...   \n",
      "\n",
      "                                  profile                 time  \\\n",
      "3      https://pantip.com/profile/7860223  11/27/2023 00:09:00   \n",
      "4      https://pantip.com/profile/7859934  11/26/2023 20:41:24   \n",
      "5      https://pantip.com/profile/2226154  11/26/2023 20:24:59   \n",
      "6      https://pantip.com/profile/2574535  11/26/2023 17:59:59   \n",
      "9      https://pantip.com/profile/6906630  11/26/2023 00:10:10   \n",
      "...                                   ...                  ...   \n",
      "24076  https://pantip.com/profile/2226154  11/21/2023 19:12:15   \n",
      "24078   https://pantip.com/profile/359162  11/21/2023 23:49:49   \n",
      "24079  https://pantip.com/profile/7832929  11/22/2023 09:15:26   \n",
      "24081  https://pantip.com/profile/7852932  11/22/2023 16:08:27   \n",
      "24091  https://pantip.com/profile/7856704  11/24/2023 18:45:31   \n",
      "\n",
      "                                     url  \n",
      "3      https://pantip.com/topic/42367045  \n",
      "4      https://pantip.com/topic/42366704  \n",
      "5      https://pantip.com/topic/42366678  \n",
      "6      https://pantip.com/topic/42366406  \n",
      "9      https://pantip.com/topic/42365259  \n",
      "...                                  ...  \n",
      "24076  https://pantip.com/topic/42356648  \n",
      "24078  https://pantip.com/topic/42357205  \n",
      "24079  https://pantip.com/topic/42357584  \n",
      "24081  https://pantip.com/topic/42358441  \n",
      "24091  https://pantip.com/topic/42362791  \n",
      "\n",
      "[10776 rows x 6 columns]\n"
     ]
    }
   ],
   "source": [
    "\n",
    "# Filter rows containing the keywords in the 'text' column\n",
    "df_pantip_suicidal_post_text = df_pantip_depression_post[df_pantip_depression_post['text'].str.contains('|'.join(keywords))]\n",
    "\n",
    "# Count the number of rows in the filtered DataFrame\n",
    "count_of_matching_rows = len(df_pantip_suicidal_post_text)\n",
    "\n",
    "# Display the count and the df_pantip_suicidal_post DataFrame\n",
    "print(f\"Number of rows containing the keywords: {count_of_matching_rows}\")\n",
    "print(df_pantip_suicidal_post_text)"
   ]
  },
  {
   "cell_type": "code",
   "execution_count": 20,
   "metadata": {},
   "outputs": [
    {
     "data": {
      "text/plain": [
       "url\n",
       "True     1824\n",
       "False     495\n",
       "Name: count, dtype: int64"
      ]
     },
     "execution_count": 20,
     "metadata": {},
     "output_type": "execute_result"
    }
   ],
   "source": [
    "# identify the number of rows which have the same url between df_pantip_suicidal_post_title and df_pantip_suicidal_post_text\n",
    "df_pantip_suicidal_post_title['url'].isin(df_pantip_suicidal_post_text['url']).value_counts()"
   ]
  },
  {
   "cell_type": "code",
   "execution_count": 21,
   "metadata": {},
   "outputs": [
    {
     "data": {
      "text/plain": [
       "url\n",
       "False    8952\n",
       "True     1824\n",
       "Name: count, dtype: int64"
      ]
     },
     "execution_count": 21,
     "metadata": {},
     "output_type": "execute_result"
    }
   ],
   "source": [
    "# identify the number of rows which have the same url between df_pantip_suicidal_post_title and df_pantip_suicidal_post_text\n",
    "df_pantip_suicidal_post_text['url'].isin(df_pantip_suicidal_post_title['url']).value_counts()"
   ]
  },
  {
   "cell_type": "code",
   "execution_count": 22,
   "metadata": {},
   "outputs": [
    {
     "data": {
      "text/plain": [
       "(8952, 6)"
      ]
     },
     "execution_count": 22,
     "metadata": {},
     "output_type": "execute_result"
    }
   ],
   "source": [
    "# crate the new dataframe which contain the rows of df_pantip_suicidal_post_text only\n",
    "df_pantip_suicidal_post_text_only = df_pantip_suicidal_post_text[~df_pantip_suicidal_post_text['url'].isin(df_pantip_suicidal_post_title['url'])]\n",
    "# check shape of the new dataframe\n",
    "df_pantip_suicidal_post_text_only.shape"
   ]
  },
  {
   "cell_type": "code",
   "execution_count": 37,
   "metadata": {},
   "outputs": [],
   "source": [
    "# save the dataframe which based on title portion to output - wip folder (for analysis to do labeling only)\n",
    "df_pantip_suicidal_post_title.to_csv('../output - wip/df_pantip_suicidal_post_title.csv', index = True, encoding = 'UTF8')"
   ]
  },
  {
   "cell_type": "code",
   "execution_count": 38,
   "metadata": {},
   "outputs": [],
   "source": [
    "# save the dataframe which based on text portion to output - wip folder (for analysis to do labeling only)\n",
    "df_pantip_suicidal_post_text.to_csv('../output - wip/df_pantip_suicidal_post_text.csv', index = True, encoding = 'UTF8')"
   ]
  },
  {
   "cell_type": "code",
   "execution_count": 39,
   "metadata": {},
   "outputs": [],
   "source": [
    "# save the dataframe which based on text only portion to output - wip folder (for analysis to do labeling only)\n",
    "df_pantip_suicidal_post_text_only.to_csv('../output - wip/df_pantip_suicidal_post_text_only.csv', index = True, encoding = 'UTF8')  "
   ]
  },
  {
   "cell_type": "code",
   "execution_count": 6,
   "metadata": {},
   "outputs": [],
   "source": [
    "# save the all post dataframe to output - wip folder (for analysis to do labeling only)\n",
    "df_pantip_depression_post.to_csv('../output - wip/df_pantip_depression_post.csv', index = True, encoding = 'UTF8')"
   ]
  }
 ],
 "metadata": {
  "kernelspec": {
   "display_name": "Python 3 (ipykernel)",
   "language": "python",
   "name": "python3"
  },
  "language_info": {
   "codemirror_mode": {
    "name": "ipython",
    "version": 3
   },
   "file_extension": ".py",
   "mimetype": "text/x-python",
   "name": "python",
   "nbconvert_exporter": "python",
   "pygments_lexer": "ipython3",
   "version": "3.11.5"
  }
 },
 "nbformat": 4,
 "nbformat_minor": 2
}
