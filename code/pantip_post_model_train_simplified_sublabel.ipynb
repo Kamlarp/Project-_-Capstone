{
 "cells": [
  {
   "cell_type": "markdown",
   "metadata": {},
   "source": [
    "# **----- Import Libraries -----**"
   ]
  },
  {
   "cell_type": "code",
   "execution_count": 1,
   "metadata": {},
   "outputs": [],
   "source": [
    "import pandas as pd\n",
    "\n",
    "# import the libraries for data visualization\n",
    "import matplotlib.pyplot as plt\n",
    "import seaborn as sns\n",
    "\n",
    "# import the libraries for saving the model, vectorizer, scaler\n",
    "import pickle, json\n",
    "\n",
    "# import train test split\n",
    "from sklearn.model_selection import train_test_split\n",
    "\n",
    "# import the vectorizers, scaler, smote\n",
    "from sklearn.feature_extraction.text import TfidfVectorizer\n",
    "from sklearn.preprocessing import StandardScaler\n",
    "from imblearn.over_sampling import SMOTE\n",
    "\n",
    "# import the model including logistic regression, decision tree, bagged decision tree, random forest, ada boost, gradient boost, xgboost, svm \n",
    "from sklearn.linear_model import LogisticRegression\n",
    "from sklearn.tree import DecisionTreeClassifier\n",
    "\n",
    "# import the metrics including accuracy score, precision score, recall score, f1 score, roc auc score, confusion matrix as well as classification report, roc curve\n",
    "from sklearn.metrics import accuracy_score, precision_score, recall_score, f1_score, roc_auc_score, confusion_matrix, classification_report, roc_curve\n",
    "\n"
   ]
  },
  {
   "cell_type": "markdown",
   "metadata": {},
   "source": [
    "# **----- Import Data -----**"
   ]
  },
  {
   "cell_type": "code",
   "execution_count": 2,
   "metadata": {},
   "outputs": [],
   "source": [
    "#import the file \"df_pantip_posts_suicide_labeled_processed.csv\" from output folder\n",
    "df_pantip_posts_suicide_labeled_processed = pd.read_csv('../output - final/df_pantip_posts_suicide_labeled_processed.csv')"
   ]
  },
  {
   "cell_type": "markdown",
   "metadata": {},
   "source": [
    "# **----- Define X,y and Do Train-test Split -----**"
   ]
  },
  {
   "cell_type": "code",
   "execution_count": 3,
   "metadata": {},
   "outputs": [
    {
     "name": "stdout",
     "output_type": "stream",
     "text": [
      "Index(['Unnamed: 0', 'index', 'title', 'url', 'label', 'tags', 'text',\n",
      "       'profile', 'time', 'sub_label', 'all_text', 'tokenized_text',\n",
      "       'day_week', 'day_month', 'month_year', 'year', 'time_day', 'title_len',\n",
      "       'text_len', 'title_emoji', 'text_emoji'],\n",
      "      dtype='object')\n"
     ]
    }
   ],
   "source": [
    "# list columns\n",
    "print(df_pantip_posts_suicide_labeled_processed.columns)"
   ]
  },
  {
   "cell_type": "code",
   "execution_count": 4,
   "metadata": {},
   "outputs": [],
   "source": [
    "df_pantip_posts_suicide_labeled_processed.drop(columns=['Unnamed: 0'], inplace = True)"
   ]
  },
  {
   "cell_type": "code",
   "execution_count": 5,
   "metadata": {},
   "outputs": [
    {
     "data": {
      "text/plain": [
       "index             0\n",
       "title             0\n",
       "url               0\n",
       "label             0\n",
       "tags              0\n",
       "text              0\n",
       "profile           0\n",
       "time              0\n",
       "sub_label         0\n",
       "all_text          0\n",
       "tokenized_text    0\n",
       "day_week          0\n",
       "day_month         0\n",
       "month_year        0\n",
       "year              0\n",
       "time_day          0\n",
       "title_len         0\n",
       "text_len          0\n",
       "title_emoji       0\n",
       "text_emoji        0\n",
       "dtype: int64"
      ]
     },
     "execution_count": 5,
     "metadata": {},
     "output_type": "execute_result"
    }
   ],
   "source": [
    "# check NaN\n",
    "df_pantip_posts_suicide_labeled_processed.isnull().sum()"
   ]
  },
  {
   "cell_type": "code",
   "execution_count": 6,
   "metadata": {},
   "outputs": [
    {
     "name": "stdout",
     "output_type": "stream",
     "text": [
      "Columns in X: Index(['tags', 'sub_label', 'tokenized_text', 'day_week', 'day_month',\n",
      "       'month_year', 'year', 'time_day', 'title_len', 'text_len',\n",
      "       'title_emoji', 'text_emoji'],\n",
      "      dtype='object')\n",
      "shape in X: (1261, 12)\n",
      "Columns in y: Index(['sub_label'], dtype='object')\n",
      "shape in y (1261, 1)\n",
      "sub_label\n",
      "11           779\n",
      "12           482\n",
      "Name: count, dtype: int64\n"
     ]
    }
   ],
   "source": [
    "# Filter the DataFrame to include only rows where 'sub_label' is 11 or 12\n",
    "filtered_df = df_pantip_posts_suicide_labeled_processed[df_pantip_posts_suicide_labeled_processed['sub_label'].isin([11, 12])]\n",
    "\n",
    "# Define 'X' to contain only the 'sub_label' column of the filtered DataFrame\n",
    "y = filtered_df[['sub_label']]\n",
    "\n",
    "# Define 'y' to include the specified columns of the filtered DataFrame\n",
    "X = filtered_df.drop(columns=['index', 'title', 'url', 'label', 'text','all_text',\n",
    "       'profile', 'time'])\n",
    "\n",
    "# Print the columns of 'X' and 'y'\n",
    "print(\"Columns in X:\", X.columns)\n",
    "print('shape in X:', X.shape)\n",
    "print(\"Columns in y:\", y.columns)\n",
    "print('shape in y', y.shape)\n",
    "print(y.value_counts())"
   ]
  },
  {
   "cell_type": "code",
   "execution_count": 7,
   "metadata": {},
   "outputs": [
    {
     "name": "stderr",
     "output_type": "stream",
     "text": [
      "C:\\Users\\HP\\AppData\\Local\\Temp\\ipykernel_21524\\3308730798.py:9: SettingWithCopyWarning: \n",
      "A value is trying to be set on a copy of a slice from a DataFrame.\n",
      "Try using .loc[row_indexer,col_indexer] = value instead\n",
      "\n",
      "See the caveats in the documentation: https://pandas.pydata.org/pandas-docs/stable/user_guide/indexing.html#returning-a-view-versus-a-copy\n",
      "  y['sub_label'] = y['sub_label'].map(mapping_value)\n"
     ]
    },
    {
     "data": {
      "text/plain": [
       "sub_label\n",
       "1    779\n",
       "0    482\n",
       "Name: count, dtype: int64"
      ]
     },
     "execution_count": 7,
     "metadata": {},
     "output_type": "execute_result"
    }
   ],
   "source": [
    "# transform value in column 'sub_label'\n",
    "# 11 = 1\n",
    "# 12 = 0\n",
    "\n",
    "#create mapping value\n",
    "mapping_value = {11:1, 12:0}\n",
    "\n",
    "#map value on column 'sub_label'(\n",
    "y['sub_label'] = y['sub_label'].map(mapping_value)\n",
    "\n",
    "#show result \n",
    "y['sub_label'].value_counts()"
   ]
  },
  {
   "cell_type": "code",
   "execution_count": 8,
   "metadata": {},
   "outputs": [],
   "source": [
    "# train test split\n",
    "X_train, X_test, y_train, y_test = train_test_split(X,y, test_size = 0.2, random_state = 42, stratify= y)"
   ]
  },
  {
   "cell_type": "markdown",
   "metadata": {},
   "source": [
    "# **----- Feature Engineering -----**"
   ]
  },
  {
   "cell_type": "code",
   "execution_count": 9,
   "metadata": {},
   "outputs": [
    {
     "name": "stdout",
     "output_type": "stream",
     "text": [
      "Index(['day_week_Monday', 'day_week_Saturday', 'day_week_Sunday',\n",
      "       'day_week_Thursday', 'day_week_Tuesday', 'day_week_Wednesday',\n",
      "       'day_month_2', 'day_month_3', 'day_month_4', 'day_month_5',\n",
      "       'day_month_6', 'day_month_7', 'day_month_8', 'day_month_9',\n",
      "       'day_month_10', 'day_month_11', 'day_month_12', 'day_month_13',\n",
      "       'day_month_14', 'day_month_15', 'day_month_16', 'day_month_17',\n",
      "       'day_month_18', 'day_month_19', 'day_month_20', 'day_month_21',\n",
      "       'day_month_22', 'day_month_23', 'day_month_24', 'day_month_25',\n",
      "       'day_month_26', 'day_month_27', 'day_month_28', 'day_month_29',\n",
      "       'day_month_30', 'day_month_31', 'month_year_August',\n",
      "       'month_year_December', 'month_year_February', 'month_year_January',\n",
      "       'month_year_July', 'month_year_June', 'month_year_March',\n",
      "       'month_year_May', 'month_year_November', 'month_year_October',\n",
      "       'month_year_September', 'year_2017', 'year_2018', 'year_2019',\n",
      "       'year_2020', 'year_2021', 'year_2022', 'year_2023', 'time_day_12-15',\n",
      "       'time_day_15-18', 'time_day_18-21', 'time_day_21-24', 'time_day_3-6',\n",
      "       'time_day_6-9', 'time_day_9-12', 'title_emoji_1', 'text_emoji_1'],\n",
      "      dtype='object')\n",
      "<class 'pandas.core.frame.DataFrame'>\n",
      "(1008, 63)\n"
     ]
    }
   ],
   "source": [
    "#Step 1: One-Hot Encoding for Categorical Data\n",
    "\n",
    "cols = ['day_week', 'day_month', 'month_year', 'year', 'time_day', 'title_emoji', 'text_emoji']\n",
    "X_train_categorical = pd.get_dummies(X_train[cols], columns=cols, drop_first=True, dtype=int)\n",
    "X_test_categorical = pd.get_dummies(X_test[cols], columns=cols, drop_first=True, dtype=int)\n",
    "\n",
    "print(X_train_categorical.columns)\n",
    "print(type(X_train_categorical))\n",
    "print(X_train_categorical.shape)"
   ]
  },
  {
   "cell_type": "code",
   "execution_count": 10,
   "metadata": {},
   "outputs": [
    {
     "name": "stdout",
     "output_type": "stream",
     "text": [
      "<class 'scipy.sparse._csr.csr_matrix'>\n",
      "(1008, 4678)\n",
      "<class 'scipy.sparse._csr.csr_matrix'>\n",
      "(253, 4678)\n"
     ]
    }
   ],
   "source": [
    "#Step 2: Vectorization of 'tokenized_text'\n",
    "\n",
    "vectorizer = TfidfVectorizer()\n",
    "X_train_text = vectorizer.fit_transform(X_train['tokenized_text'])\n",
    "X_test_text = vectorizer.transform(X_test['tokenized_text'])\n",
    "\n",
    "print(type(X_train_text))\n",
    "print(X_train_text.shape)\n",
    "\n",
    "print(type(X_test_text))\n",
    "print(X_test_text.shape)"
   ]
  },
  {
   "cell_type": "code",
   "execution_count": 11,
   "metadata": {},
   "outputs": [
    {
     "name": "stdout",
     "output_type": "stream",
     "text": [
      "<class 'numpy.ndarray'>\n"
     ]
    },
    {
     "data": {
      "text/plain": [
       "(1008, 1)"
      ]
     },
     "execution_count": 11,
     "metadata": {},
     "output_type": "execute_result"
    }
   ],
   "source": [
    "# Step 3: Scaling of Numerical Data\n",
    "\n",
    "scaler = StandardScaler()\n",
    "X_train_numerical = scaler.fit_transform(X_train[['text_len']])\n",
    "X_test_numerical = scaler.transform(X_test[['text_len']])\n",
    "\n",
    "print(type(X_train_numerical))\n",
    "X_train_numerical.shape"
   ]
  },
  {
   "cell_type": "code",
   "execution_count": 12,
   "metadata": {},
   "outputs": [
    {
     "name": "stdout",
     "output_type": "stream",
     "text": [
      "(1008, 4742)\n"
     ]
    }
   ],
   "source": [
    "# Step 4: Concatenate All Features for Training Data\n",
    "\n",
    "X_train_all = pd.concat([\n",
    "    pd.DataFrame(X_train_numerical, columns=['text_len'], index=X_train.index),\n",
    "    pd.DataFrame(X_train_text.todense(), columns=vectorizer.get_feature_names_out(), index=X_train.index),\n",
    "    X_train_categorical\n",
    "], axis=1)\n",
    "\n",
    "print(X_train_all.shape)\n"
   ]
  },
  {
   "cell_type": "code",
   "execution_count": 13,
   "metadata": {},
   "outputs": [
    {
     "name": "stdout",
     "output_type": "stream",
     "text": [
      "(253, 4742)\n"
     ]
    }
   ],
   "source": [
    "# Step 4: Concatenate All Features for Test Data\n",
    "X_test_all = pd.concat([\n",
    "    pd.DataFrame(X_test_numerical, columns=['text_len'], index=X_test.index),\n",
    "    pd.DataFrame(X_test_text.todense(), columns=vectorizer.get_feature_names_out(), index=X_test.index),\n",
    "    X_test_categorical\n",
    "], axis=1)\n",
    "\n",
    "print(X_test_all.shape)"
   ]
  },
  {
   "cell_type": "code",
   "execution_count": 14,
   "metadata": {},
   "outputs": [
    {
     "name": "stdout",
     "output_type": "stream",
     "text": [
      "(1246, 4742)\n"
     ]
    }
   ],
   "source": [
    "# Step 5: smote X_train and y_train\n",
    "sm = SMOTE(random_state=42)\n",
    "X_train_sm, y_train_sm = sm.fit_resample(X_train_all, y_train)\n",
    "\n",
    "print(X_train_sm.shape)\n"
   ]
  },
  {
   "cell_type": "code",
   "execution_count": 15,
   "metadata": {},
   "outputs": [
    {
     "name": "stdout",
     "output_type": "stream",
     "text": [
      "(1246, 4742)\n",
      "(253, 4742)\n"
     ]
    }
   ],
   "source": [
    "# Step 6: Checking and Renaming Duplicate Features\n",
    "\n",
    "# Function to rename duplicate columns by adding a suffix\n",
    "def rename_duplicates(df):\n",
    "    cols = pd.Series(df.columns)\n",
    "    for dup in cols[cols.duplicated()].unique():\n",
    "        cols[cols[cols == dup].index.values.tolist()] = [dup + '_' + str(i) if i != 0 else dup for i in range(sum(cols == dup))]\n",
    "    df.columns = cols\n",
    "    return df\n",
    "\n",
    "# Apply it to your training data\n",
    "rename_duplicates(X_train_sm)\n",
    "\n",
    "# If you're transforming your test data similarly, apply it there too\n",
    "rename_duplicates(X_test_all)\n",
    "\n",
    "# check the shape of X_train_sm and X_test_all\n",
    "print(X_train_sm.shape)\n",
    "print(X_test_all.shape)"
   ]
  },
  {
   "cell_type": "code",
   "execution_count": 16,
   "metadata": {},
   "outputs": [
    {
     "data": {
      "text/plain": [
       "0"
      ]
     },
     "execution_count": 16,
     "metadata": {},
     "output_type": "execute_result"
    }
   ],
   "source": [
    "X_train_sm.columns.isna().sum()"
   ]
  },
  {
   "cell_type": "code",
   "execution_count": 17,
   "metadata": {},
   "outputs": [],
   "source": [
    "# Save X_train_sm column to the list of X_train_sm columns so we can use this list to match with X_sm of youtube data and use the same model to predict\n",
    "X_train_sm_columns = X_train_sm.columns.tolist()\n",
    "\n",
    "with open('../model/X_train_sm_sublabel_columns.json', 'w') as f:\n",
    "    json.dump(X_train_sm_columns, f)"
   ]
  },
  {
   "cell_type": "markdown",
   "metadata": {},
   "source": [
    "# **----- Do the  modeling & evaluating -----**"
   ]
  },
  {
   "cell_type": "markdown",
   "metadata": {},
   "source": [
    "## Logistic Regression Modeling & Coefficient Analysis"
   ]
  },
  {
   "cell_type": "code",
   "execution_count": 18,
   "metadata": {},
   "outputs": [
    {
     "name": "stderr",
     "output_type": "stream",
     "text": [
      "c:\\Users\\HP\\anaconda3\\Lib\\site-packages\\sklearn\\utils\\validation.py:1183: DataConversionWarning: A column-vector y was passed when a 1d array was expected. Please change the shape of y to (n_samples, ), for example using ravel().\n",
      "  y = column_or_1d(y, warn=True)\n"
     ]
    }
   ],
   "source": [
    "# Run Logistic Regression Model to test compute time\n",
    "lr = LogisticRegression(random_state=42, class_weight={1:1, 0:1})\n",
    "lr.fit(X_train_sm, y_train_sm)\n",
    "y_pred_lr = lr.predict(X_test_all)\n",
    "y_pred_lr_proba = lr.predict_proba(X_test_all)[:,1]\n"
   ]
  },
  {
   "cell_type": "code",
   "execution_count": 19,
   "metadata": {},
   "outputs": [],
   "source": [
    "# Set threshold for Logistic Regression\n",
    "\n",
    "def get_pred_by_proba(proba, threshold=0.5):\n",
    "    return [1 if p >= threshold else 0 for p in proba]\n",
    "\n",
    "\n",
    "y_pred_lr = get_pred_by_proba(y_pred_lr_proba, threshold=0.2)"
   ]
  },
  {
   "cell_type": "code",
   "execution_count": 20,
   "metadata": {},
   "outputs": [
    {
     "name": "stdout",
     "output_type": "stream",
     "text": [
      "Logistic Regression\n",
      "Accuracy score:  0.6521739130434783\n",
      "Precision score:  0.639344262295082\n",
      "Recall score:  1.0\n",
      "F1 score:  0.78\n",
      "ROC AUC score:  0.5463917525773196\n",
      "Confusion Matrix: \n",
      " [[  9  88]\n",
      " [  0 156]]\n",
      "Classification Report: \n",
      "               precision    recall  f1-score   support\n",
      "\n",
      "           0       1.00      0.09      0.17        97\n",
      "           1       0.64      1.00      0.78       156\n",
      "\n",
      "    accuracy                           0.65       253\n",
      "   macro avg       0.82      0.55      0.47       253\n",
      "weighted avg       0.78      0.65      0.55       253\n",
      "\n"
     ]
    }
   ],
   "source": [
    "# evaluate the model both test and train model comparison for Logistic Regression\n",
    "print('Logistic Regression')\n",
    "print('Accuracy score: ', accuracy_score(y_test, y_pred_lr))\n",
    "print('Precision score: ', precision_score(y_test, y_pred_lr))\n",
    "print('Recall score: ', recall_score(y_test, y_pred_lr))\n",
    "print('F1 score: ', f1_score(y_test, y_pred_lr))\n",
    "print('ROC AUC score: ', roc_auc_score(y_test, y_pred_lr))\n",
    "print('Confusion Matrix: \\n', confusion_matrix(y_test, y_pred_lr))\n",
    "print('Classification Report: \\n', classification_report(y_test, y_pred_lr))\n"
   ]
  },
  {
   "cell_type": "code",
   "execution_count": 21,
   "metadata": {},
   "outputs": [],
   "source": [
    "# save classification report to csv file\n",
    "report = classification_report(y_test, y_pred_lr, output_dict=True)\n",
    "df = pd.DataFrame(report).transpose()\n",
    "df.to_csv('../result/pantip_model_simplifeid_sublabel_lr_classification_report.csv', index=False)"
   ]
  },
  {
   "cell_type": "code",
   "execution_count": 22,
   "metadata": {},
   "outputs": [],
   "source": [
    "# save model to pickle file\n",
    "pickle.dump(lr, open('../model/pantip_post_model_train_simplified_sublabel_lr.pkl', 'wb'))\n",
    "\n",
    "# save vectorizer to pickle file\n",
    "pickle.dump(vectorizer, open('../model/pantip_post_model_train_simplified_sublabel_vectorizer.pkl', 'wb'))\n",
    "\n",
    "# save scaler to pickle file\n",
    "pickle.dump(scaler, open('../model/pantip_post_model_train_simplified_sublabel_scaler.pkl', 'wb'))\n"
   ]
  },
  {
   "cell_type": "code",
   "execution_count": 23,
   "metadata": {},
   "outputs": [
    {
     "data": {
      "image/png": "[encoded data removed]",
      "text/plain": [
       "<Figure size 1000x700 with 2 Axes>"
      ]
     },
     "metadata": {},
     "output_type": "display_data"
    }
   ],
   "source": [
    "# use the confusion matrix display function from library to display the confusion matrix chart for Logistic Regression; assuming label 1 is suicidal ideation and 0 is non suicidal ideation\n",
    "cm = confusion_matrix(y_test, y_pred_lr)\n",
    "\n",
    "plt.figure(figsize=(10, 7))\n",
    "sns.heatmap(cm, annot=True, fmt='g', cmap=plt.cm.Blues)\n",
    "plt.title('Confusion Matrix for Logistic Regression')\n",
    "plt.xlabel('Predicted labels')\n",
    "plt.ylabel('True labels')\n",
    "plt.xticks([0.5, 1.5], ['non suicidal ideation', 'suicidal ideation'])\n",
    "plt.yticks([0.5, 1.5], ['non suicidal ideation', 'suicidal ideation'])\n",
    "plt.savefig('../result/pantip_model_simplified_label_lr_confusion_matrix.png')\n",
    "plt.show()\n"
   ]
  },
  {
   "cell_type": "code",
   "execution_count": 24,
   "metadata": {},
   "outputs": [
    {
     "data": {
      "text/html": [
       "<div>\n",
       "<style scoped>\n",
       "    .dataframe tbody tr th:only-of-type {\n",
       "        vertical-align: middle;\n",
       "    }\n",
       "\n",
       "    .dataframe tbody tr th {\n",
       "        vertical-align: top;\n",
       "    }\n",
       "\n",
       "    .dataframe thead th {\n",
       "        text-align: right;\n",
       "    }\n",
       "</style>\n",
       "<table border=\"1\" class=\"dataframe\">\n",
       "  <thead>\n",
       "    <tr style=\"text-align: right;\">\n",
       "      <th></th>\n",
       "      <th>coef</th>\n",
       "      <th>coef_abs</th>\n",
       "    </tr>\n",
       "  </thead>\n",
       "  <tbody>\n",
       "    <tr>\n",
       "      <th>วตาย</th>\n",
       "      <td>6.790650</td>\n",
       "      <td>6.790650</td>\n",
       "    </tr>\n",
       "    <tr>\n",
       "      <th>าต</th>\n",
       "      <td>6.645438</td>\n",
       "      <td>6.645438</td>\n",
       "    </tr>\n",
       "    <tr>\n",
       "      <th>จบช</th>\n",
       "      <td>1.828734</td>\n",
       "      <td>1.828734</td>\n",
       "    </tr>\n",
       "    <tr>\n",
       "      <th>ดส</th>\n",
       "      <td>1.712407</td>\n",
       "      <td>1.712407</td>\n",
       "    </tr>\n",
       "    <tr>\n",
       "      <th>ทำร</th>\n",
       "      <td>1.642035</td>\n",
       "      <td>1.642035</td>\n",
       "    </tr>\n",
       "    <tr>\n",
       "      <th>โลก</th>\n",
       "      <td>-1.578306</td>\n",
       "      <td>1.578306</td>\n",
       "    </tr>\n",
       "    <tr>\n",
       "      <th>หาย</th>\n",
       "      <td>-1.574898</td>\n",
       "      <td>1.574898</td>\n",
       "    </tr>\n",
       "    <tr>\n",
       "      <th>ตาย</th>\n",
       "      <td>-1.498501</td>\n",
       "      <td>1.498501</td>\n",
       "    </tr>\n",
       "    <tr>\n",
       "      <th>month_year_August</th>\n",
       "      <td>1.385314</td>\n",
       "      <td>1.385314</td>\n",
       "    </tr>\n",
       "    <tr>\n",
       "      <th>วเอง</th>\n",
       "      <td>1.321789</td>\n",
       "      <td>1.321789</td>\n",
       "    </tr>\n",
       "    <tr>\n",
       "      <th>day_month_7</th>\n",
       "      <td>1.092999</td>\n",
       "      <td>1.092999</td>\n",
       "    </tr>\n",
       "    <tr>\n",
       "      <th>day_month_17</th>\n",
       "      <td>1.085938</td>\n",
       "      <td>1.085938</td>\n",
       "    </tr>\n",
       "    <tr>\n",
       "      <th>าย</th>\n",
       "      <td>1.061898</td>\n",
       "      <td>1.061898</td>\n",
       "    </tr>\n",
       "    <tr>\n",
       "      <th>day_month_27</th>\n",
       "      <td>1.024672</td>\n",
       "      <td>1.024672</td>\n",
       "    </tr>\n",
       "    <tr>\n",
       "      <th>day_month_31</th>\n",
       "      <td>0.998950</td>\n",
       "      <td>0.998950</td>\n",
       "    </tr>\n",
       "    <tr>\n",
       "      <th>month_year_March</th>\n",
       "      <td>0.993831</td>\n",
       "      <td>0.993831</td>\n",
       "    </tr>\n",
       "    <tr>\n",
       "      <th>ไร</th>\n",
       "      <td>-0.990462</td>\n",
       "      <td>0.990462</td>\n",
       "    </tr>\n",
       "    <tr>\n",
       "      <th>month_year_July</th>\n",
       "      <td>0.980342</td>\n",
       "      <td>0.980342</td>\n",
       "    </tr>\n",
       "    <tr>\n",
       "      <th>day_month_6</th>\n",
       "      <td>0.976749</td>\n",
       "      <td>0.976749</td>\n",
       "    </tr>\n",
       "    <tr>\n",
       "      <th>กล</th>\n",
       "      <td>0.972136</td>\n",
       "      <td>0.972136</td>\n",
       "    </tr>\n",
       "  </tbody>\n",
       "</table>\n",
       "</div>"
      ],
      "text/plain": [
       "                       coef  coef_abs\n",
       "วตาย               6.790650  6.790650\n",
       "าต                 6.645438  6.645438\n",
       "จบช                1.828734  1.828734\n",
       "ดส                 1.712407  1.712407\n",
       "ทำร                1.642035  1.642035\n",
       "โลก               -1.578306  1.578306\n",
       "หาย               -1.574898  1.574898\n",
       "ตาย               -1.498501  1.498501\n",
       "month_year_August  1.385314  1.385314\n",
       "วเอง               1.321789  1.321789\n",
       "day_month_7        1.092999  1.092999\n",
       "day_month_17       1.085938  1.085938\n",
       "าย                 1.061898  1.061898\n",
       "day_month_27       1.024672  1.024672\n",
       "day_month_31       0.998950  0.998950\n",
       "month_year_March   0.993831  0.993831\n",
       "ไร                -0.990462  0.990462\n",
       "month_year_July    0.980342  0.980342\n",
       "day_month_6        0.976749  0.976749\n",
       "กล                 0.972136  0.972136"
      ]
     },
     "execution_count": 24,
     "metadata": {},
     "output_type": "execute_result"
    }
   ],
   "source": [
    "# create the coefficients dataframe and sorting the values from highest to lowest\n",
    "coef_df = pd.DataFrame(lr.coef_.T, index=X_train_sm.columns, columns=['coef'])\n",
    "coef_df['coef_abs'] = coef_df['coef'].abs()\n",
    "coef_df = coef_df.sort_values(by='coef_abs', ascending=False)           \n",
    "coef_df.head(20)"
   ]
  },
  {
   "cell_type": "markdown",
   "metadata": {},
   "source": [
    "## Decision Tree Modeling "
   ]
  },
  {
   "cell_type": "code",
   "execution_count": 25,
   "metadata": {},
   "outputs": [],
   "source": [
    "# Run Decision Tree Model to test compute time\n",
    "dt = DecisionTreeClassifier(random_state=42, class_weight={0:1, 1:1})\n",
    "dt.fit(X_train_sm, y_train_sm)\n",
    "y_pred_dt = dt.predict(X_test_all)\n",
    "y_pred_dt_proba = dt.predict_proba(X_test_all)[:,1]"
   ]
  },
  {
   "cell_type": "code",
   "execution_count": 26,
   "metadata": {},
   "outputs": [],
   "source": [
    "# Set threshold for Decision Tree\n",
    "\n",
    "def get_pred_by_proba(proba, threshold=0.5):\n",
    "    return [1 if p >= threshold else 0 for p in proba]\n",
    "\n",
    "y_pred_dt = get_pred_by_proba(y_pred_dt_proba, threshold=0.4)"
   ]
  },
  {
   "cell_type": "code",
   "execution_count": 27,
   "metadata": {},
   "outputs": [
    {
     "name": "stdout",
     "output_type": "stream",
     "text": [
      "Decision Tree\n",
      "Accuracy score:  0.8102766798418972\n",
      "Precision score:  0.8375\n",
      "Recall score:  0.8589743589743589\n",
      "F1 score:  0.8481012658227848\n",
      "ROC AUC score:  0.7954665609304785\n",
      "Confusion Matrix: \n",
      " [[ 71  26]\n",
      " [ 22 134]]\n",
      "Classification Report: \n",
      "               precision    recall  f1-score   support\n",
      "\n",
      "           0       0.76      0.73      0.75        97\n",
      "           1       0.84      0.86      0.85       156\n",
      "\n",
      "    accuracy                           0.81       253\n",
      "   macro avg       0.80      0.80      0.80       253\n",
      "weighted avg       0.81      0.81      0.81       253\n",
      "\n"
     ]
    }
   ],
   "source": [
    "# evaluate the model both test and train model comparison for Decision Tree\n",
    "\n",
    "print('Decision Tree')\n",
    "print('Accuracy score: ', accuracy_score(y_test, y_pred_dt))\n",
    "print('Precision score: ', precision_score(y_test, y_pred_dt))\n",
    "print('Recall score: ', recall_score(y_test, y_pred_dt))\n",
    "print('F1 score: ', f1_score(y_test, y_pred_dt))\n",
    "print('ROC AUC score: ', roc_auc_score(y_test, y_pred_dt))\n",
    "print('Confusion Matrix: \\n', confusion_matrix(y_test, y_pred_dt))\n",
    "print('Classification Report: \\n', classification_report(y_test, y_pred_dt))\n"
   ]
  },
  {
   "cell_type": "code",
   "execution_count": 28,
   "metadata": {},
   "outputs": [],
   "source": [
    "# save classification report to csv file\n",
    "report = classification_report(y_test, y_pred_dt, output_dict=True)\n",
    "df = pd.DataFrame(report).transpose()\n",
    "df.to_csv('../result/pantip_model_simplifeid_sublabel_dt_classification_report.csv', index=False)"
   ]
  },
  {
   "cell_type": "code",
   "execution_count": 29,
   "metadata": {},
   "outputs": [],
   "source": [
    "# save model to pickle file\n",
    "pickle.dump(dt, open('../model/pantip_post_model_train_simplified_sublabel_dt', 'wb'))"
   ]
  },
  {
   "cell_type": "code",
   "execution_count": 30,
   "metadata": {},
   "outputs": [
    {
     "data": {
      "image/png": "[encoded data removed]",
      "text/plain": [
       "<Figure size 1000x700 with 2 Axes>"
      ]
     },
     "metadata": {},
     "output_type": "display_data"
    }
   ],
   "source": [
    "# use the confusion matrix display function from library to display the confusion matrix chart for Logistic Regression; assuming label 1 is suicidal ideation and 0 is non suicidal ideation\n",
    "cm = confusion_matrix(y_test, y_pred_dt)\n",
    "\n",
    "plt.figure(figsize=(10, 7))\n",
    "sns.heatmap(cm, annot=True, fmt='g', cmap=plt.cm.Blues)\n",
    "plt.title('Confusion Matrix for Decision Tree')\n",
    "plt.xlabel('Predicted labels')\n",
    "plt.ylabel('True labels')\n",
    "plt.xticks([0.5, 1.5], ['non suicidal ideation', 'suicidal ideation'])\n",
    "plt.yticks([0.5, 1.5], ['non suicidal ideation', 'suicidal ideation'])\n",
    "plt.savefig('../result/pantip_model_simplified_label_dt_confusion_matrix.png')\n",
    "plt.show()"
   ]
  }
 ],
 "metadata": {
  "kernelspec": {
   "display_name": "base",
   "language": "python",
   "name": "python3"
  },
  "language_info": {
   "codemirror_mode": {
    "name": "ipython",
    "version": 3
   },
   "file_extension": ".py",
   "mimetype": "text/x-python",
   "name": "python",
   "nbconvert_exporter": "python",
   "pygments_lexer": "ipython3",
   "version": "3.11.5"
  }
 },
 "nbformat": 4,
 "nbformat_minor": 2
}
